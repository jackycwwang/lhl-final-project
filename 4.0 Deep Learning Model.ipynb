{
 "cells": [
  {
   "cell_type": "markdown",
   "id": "a4e32f35",
   "metadata": {},
   "source": [
    "# Deep Learning Model"
   ]
  },
  {
   "cell_type": "markdown",
   "id": "8cbee169",
   "metadata": {},
   "source": [
    "### Load and preprocess data"
   ]
  },
  {
   "cell_type": "code",
   "execution_count": 1,
   "id": "ad01e22d",
   "metadata": {},
   "outputs": [],
   "source": [
    "import numpy as np\n",
    "import pandas as pd\n",
    "import matplotlib.pyplot as plt\n",
    "\n",
    "import help_function as hf  # customized help functions\n",
    "%matplotlib inline\n",
    "\n",
    "df = pd.read_csv('data/ai4i2020.csv')\n",
    "\n",
    "data = hf.preprocessing(df)\n",
    "X = data.drop('machine_failure', axis=1)\n",
    "y = data['machine_failure']\n",
    "\n",
    "# train test split\n",
    "# use stratify to enforce the proportion in the splits\n",
    "from sklearn.model_selection import train_test_split\n",
    "X_train, X_test, y_train, y_test = train_test_split(X, y, test_size=0.2, stratify=y)"
   ]
  },
  {
   "cell_type": "markdown",
   "id": "d4ca5c59",
   "metadata": {},
   "source": [
    "### Create a DL model"
   ]
  },
  {
   "cell_type": "code",
   "execution_count": 2,
   "id": "24306209",
   "metadata": {},
   "outputs": [
    {
     "name": "stdout",
     "output_type": "stream",
     "text": [
      "Model: \"sequential\"\n",
      "_________________________________________________________________\n",
      "Layer (type)                 Output Shape              Param #   \n",
      "=================================================================\n",
      "dense (Dense)                (None, 64)                576       \n",
      "_________________________________________________________________\n",
      "dropout (Dropout)            (None, 64)                0         \n",
      "_________________________________________________________________\n",
      "dense_1 (Dense)              (None, 64)                4160      \n",
      "_________________________________________________________________\n",
      "dropout_1 (Dropout)          (None, 64)                0         \n",
      "_________________________________________________________________\n",
      "dense_2 (Dense)              (None, 16)                1040      \n",
      "_________________________________________________________________\n",
      "dropout_2 (Dropout)          (None, 16)                0         \n",
      "_________________________________________________________________\n",
      "dense_3 (Dense)              (None, 1)                 17        \n",
      "=================================================================\n",
      "Total params: 5,793\n",
      "Trainable params: 5,793\n",
      "Non-trainable params: 0\n",
      "_________________________________________________________________\n"
     ]
    }
   ],
   "source": [
    "import tensorflow as tf\n",
    "from tensorflow.keras.models import Sequential\n",
    "from tensorflow.keras.layers import Dense, Dropout\n",
    "\n",
    "# set the precision for the network\n",
    "tf.keras.backend.set_floatx('float64')\n",
    "\n",
    "# specify metrics to use\n",
    "recall = tf.keras.metrics.Recall()\n",
    "# precision = tf.keras.metrics.Precision()\n",
    "fp = tf.keras.metrics.FalsePositives()\n",
    "\n",
    "# build the network\n",
    "clf = Sequential()\n",
    "clf.add(Dense(64, activation='relu', input_shape=(8,)))\n",
    "clf.add(Dropout(0.5))\n",
    "clf.add(Dense(64, activation='relu'))    \n",
    "clf.add(Dropout(0.5))\n",
    "clf.add(Dense(16, activation='relu'))\n",
    "clf.add(Dropout(0.5))  \n",
    "clf.add(Dense(1, activation='sigmoid'))\n",
    "\n",
    "# compile the network \n",
    "clf.compile(loss='binary_crossentropy', \n",
    "            optimizer='adam', \n",
    "            metrics=['accuracy', recall, fp])\n",
    "clf.summary()"
   ]
  },
  {
   "cell_type": "markdown",
   "id": "037c11e4",
   "metadata": {},
   "source": [
    "### Train the model"
   ]
  },
  {
   "cell_type": "code",
   "execution_count": 3,
   "id": "3119fbeb",
   "metadata": {},
   "outputs": [
    {
     "name": "stdout",
     "output_type": "stream",
     "text": [
      "Epoch 01274: early stopping\n"
     ]
    }
   ],
   "source": [
    "from tensorflow.keras.callbacks import EarlyStopping\n",
    "from tensorflow.keras.callbacks import ModelCheckpoint\n",
    "\n",
    "# set early stopping criterian\n",
    "es = EarlyStopping(monitor='val_recall', mode='max', \n",
    "                   verbose=1, patience=950)\n",
    "\n",
    "# train the model\n",
    "history = clf.fit(X_train, y_train, \n",
    "                  epochs=3000,\n",
    "                  batch_size=128,\n",
    "                  verbose=0, \n",
    "                  class_weight={0:0.22, 1:0.78},\n",
    "                  workers=20,\n",
    "                  validation_split=0.1,\n",
    "                  callbacks=[es]\n",
    "                 )"
   ]
  },
  {
   "cell_type": "markdown",
   "id": "74eec8e9",
   "metadata": {},
   "source": [
    "### Visualize performance"
   ]
  },
  {
   "cell_type": "code",
   "execution_count": 4,
   "id": "f81128c3",
   "metadata": {},
   "outputs": [
    {
     "data": {
      "image/png": "[encoded data removed]",
      "text/plain": [
       "<Figure size 432x288 with 2 Axes>"
      ]
     },
     "metadata": {
      "needs_background": "light"
     },
     "output_type": "display_data"
    }
   ],
   "source": [
    "import matplotlib.pyplot as plt\n",
    "\n",
    "# plot training and validation history\n",
    "fig, (ax1, ax2) = plt.subplots(2, 1)\n",
    "ax1.plot(history.history['recall'], label='train_recall')\n",
    "ax1.plot(history.history['val_recall'], label='val_recall')\n",
    "ax2.plot(history.history['false_positives'], label='train_fp')\n",
    "ax2.plot(history.history['val_false_positives'], label='val_fp')\n",
    "\n",
    "ax1.legend()\n",
    "ax2.legend()\n",
    "\n",
    "plt.tight_layout();"
   ]
  },
  {
   "cell_type": "markdown",
   "id": "ee004a30",
   "metadata": {},
   "source": [
    "### Evaluation"
   ]
  },
  {
   "cell_type": "code",
   "execution_count": 5,
   "id": "3acb2e94",
   "metadata": {},
   "outputs": [
    {
     "name": "stdout",
     "output_type": "stream",
     "text": [
      "Train_recall: 0.841, Test_recall: 0.824\n",
      "Train_fp: 51.000, Test_fp: 10.000\n"
     ]
    }
   ],
   "source": [
    "_, _, tr_recall, tr_fp = clf.evaluate(X_train, y_train, verbose=0)\n",
    "_, _, test_recall, test_fp = clf.evaluate(X_test, y_test, verbose=0)\n",
    "print('Train_recall: %.3f, Test_recall: %.3f' % (tr_recall, test_recall))\n",
    "print('Train_fp: %.3f, Test_fp: %.3f' % (tr_fp, test_fp))"
   ]
  },
  {
   "cell_type": "code",
   "execution_count": 28,
   "id": "70e9e871",
   "metadata": {},
   "outputs": [
    {
     "data": {
      "text/plain": [
       "{'recall': 0.8235294117647058,\n",
       " 'precision': 0.8484848484848485,\n",
       " 'f1': 0.8358208955223881}"
      ]
     },
     "execution_count": 28,
     "metadata": {},
     "output_type": "execute_result"
    },
    {
     "data": {
      "image/png": "[encoded data removed]",
      "text/plain": [
       "<Figure size 432x288 with 2 Axes>"
      ]
     },
     "metadata": {
      "needs_background": "light"
     },
     "output_type": "display_data"
    }
   ],
   "source": [
    "# Visualize the evaluation\n",
    "hf.dl_evaluate(clf, X_test, y_test, cutoff=0.5)"
   ]
  },
  {
   "cell_type": "code",
   "execution_count": 19,
   "id": "2b9d0aaf",
   "metadata": {},
   "outputs": [
    {
     "name": "stdout",
     "output_type": "stream",
     "text": [
      "INFO:tensorflow:Assets written to: dl_model\\assets\n"
     ]
    }
   ],
   "source": [
    "# save the model\n",
    "clf.save('dl_model')"
   ]
  },
  {
   "cell_type": "code",
   "execution_count": 20,
   "id": "505beae3",
   "metadata": {},
   "outputs": [],
   "source": [
    "# load the model \n",
    "# model = tf.keras.models.load_model('dl_model')"
   ]
  },
  {
   "cell_type": "code",
   "execution_count": null,
   "id": "a1c07a8e",
   "metadata": {},
   "outputs": [],
   "source": []
  }
 ],
 "metadata": {
  "kernelspec": {
   "display_name": "lhl_final",
   "language": "python",
   "name": "lhl_final"
  },
  "language_info": {
   "codemirror_mode": {
    "name": "ipython",
    "version": 3
   },
   "file_extension": ".py",
   "mimetype": "text/x-python",
   "name": "python",
   "nbconvert_exporter": "python",
   "pygments_lexer": "ipython3",
   "version": "3.8.5"
  }
 },
 "nbformat": 4,
 "nbformat_minor": 5
}
