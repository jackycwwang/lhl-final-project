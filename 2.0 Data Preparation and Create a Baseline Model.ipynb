{
 "cells": [
  {
   "cell_type": "markdown",
   "id": "51b13cf1",
   "metadata": {},
   "source": [
    "# Data Preparation and Create a Baseline Model"
   ]
  },
  {
   "cell_type": "code",
   "execution_count": 288,
   "id": "8f66c79a",
   "metadata": {},
   "outputs": [],
   "source": [
    "import numpy as np\n",
    "import pandas as pd\n",
    "import matplotlib.pyplot as plt\n",
    "\n",
    "import help_function as hf\n",
    "\n",
    "%matplotlib inline"
   ]
  },
  {
   "cell_type": "code",
   "execution_count": 4,
   "id": "d3425176",
   "metadata": {},
   "outputs": [],
   "source": [
    "df = pd.read_csv('data/ai4i2020.csv')"
   ]
  },
  {
   "cell_type": "code",
   "execution_count": 5,
   "id": "13a5c7dc",
   "metadata": {},
   "outputs": [
    {
     "data": {
      "text/html": [
       "<div>\n",
       "<style scoped>\n",
       "    .dataframe tbody tr th:only-of-type {\n",
       "        vertical-align: middle;\n",
       "    }\n",
       "\n",
       "    .dataframe tbody tr th {\n",
       "        vertical-align: top;\n",
       "    }\n",
       "\n",
       "    .dataframe thead th {\n",
       "        text-align: right;\n",
       "    }\n",
       "</style>\n",
       "<table border=\"1\" class=\"dataframe\">\n",
       "  <thead>\n",
       "    <tr style=\"text-align: right;\">\n",
       "      <th></th>\n",
       "      <th>UDI</th>\n",
       "      <th>Product ID</th>\n",
       "      <th>Type</th>\n",
       "      <th>Air temperature [K]</th>\n",
       "      <th>Process temperature [K]</th>\n",
       "      <th>Rotational speed [rpm]</th>\n",
       "      <th>Torque [Nm]</th>\n",
       "      <th>Tool wear [min]</th>\n",
       "      <th>Machine failure</th>\n",
       "      <th>TWF</th>\n",
       "      <th>HDF</th>\n",
       "      <th>PWF</th>\n",
       "      <th>OSF</th>\n",
       "      <th>RNF</th>\n",
       "    </tr>\n",
       "  </thead>\n",
       "  <tbody>\n",
       "    <tr>\n",
       "      <th>0</th>\n",
       "      <td>1</td>\n",
       "      <td>M14860</td>\n",
       "      <td>M</td>\n",
       "      <td>298.1</td>\n",
       "      <td>308.6</td>\n",
       "      <td>1551</td>\n",
       "      <td>42.8</td>\n",
       "      <td>0</td>\n",
       "      <td>0</td>\n",
       "      <td>0</td>\n",
       "      <td>0</td>\n",
       "      <td>0</td>\n",
       "      <td>0</td>\n",
       "      <td>0</td>\n",
       "    </tr>\n",
       "    <tr>\n",
       "      <th>1</th>\n",
       "      <td>2</td>\n",
       "      <td>L47181</td>\n",
       "      <td>L</td>\n",
       "      <td>298.2</td>\n",
       "      <td>308.7</td>\n",
       "      <td>1408</td>\n",
       "      <td>46.3</td>\n",
       "      <td>3</td>\n",
       "      <td>0</td>\n",
       "      <td>0</td>\n",
       "      <td>0</td>\n",
       "      <td>0</td>\n",
       "      <td>0</td>\n",
       "      <td>0</td>\n",
       "    </tr>\n",
       "    <tr>\n",
       "      <th>2</th>\n",
       "      <td>3</td>\n",
       "      <td>L47182</td>\n",
       "      <td>L</td>\n",
       "      <td>298.1</td>\n",
       "      <td>308.5</td>\n",
       "      <td>1498</td>\n",
       "      <td>49.4</td>\n",
       "      <td>5</td>\n",
       "      <td>0</td>\n",
       "      <td>0</td>\n",
       "      <td>0</td>\n",
       "      <td>0</td>\n",
       "      <td>0</td>\n",
       "      <td>0</td>\n",
       "    </tr>\n",
       "    <tr>\n",
       "      <th>3</th>\n",
       "      <td>4</td>\n",
       "      <td>L47183</td>\n",
       "      <td>L</td>\n",
       "      <td>298.2</td>\n",
       "      <td>308.6</td>\n",
       "      <td>1433</td>\n",
       "      <td>39.5</td>\n",
       "      <td>7</td>\n",
       "      <td>0</td>\n",
       "      <td>0</td>\n",
       "      <td>0</td>\n",
       "      <td>0</td>\n",
       "      <td>0</td>\n",
       "      <td>0</td>\n",
       "    </tr>\n",
       "    <tr>\n",
       "      <th>4</th>\n",
       "      <td>5</td>\n",
       "      <td>L47184</td>\n",
       "      <td>L</td>\n",
       "      <td>298.2</td>\n",
       "      <td>308.7</td>\n",
       "      <td>1408</td>\n",
       "      <td>40.0</td>\n",
       "      <td>9</td>\n",
       "      <td>0</td>\n",
       "      <td>0</td>\n",
       "      <td>0</td>\n",
       "      <td>0</td>\n",
       "      <td>0</td>\n",
       "      <td>0</td>\n",
       "    </tr>\n",
       "  </tbody>\n",
       "</table>\n",
       "</div>"
      ],
      "text/plain": [
       "   UDI Product ID Type  Air temperature [K]  Process temperature [K]  \\\n",
       "0    1     M14860    M                298.1                    308.6   \n",
       "1    2     L47181    L                298.2                    308.7   \n",
       "2    3     L47182    L                298.1                    308.5   \n",
       "3    4     L47183    L                298.2                    308.6   \n",
       "4    5     L47184    L                298.2                    308.7   \n",
       "\n",
       "   Rotational speed [rpm]  Torque [Nm]  Tool wear [min]  Machine failure  TWF  \\\n",
       "0                    1551         42.8                0                0    0   \n",
       "1                    1408         46.3                3                0    0   \n",
       "2                    1498         49.4                5                0    0   \n",
       "3                    1433         39.5                7                0    0   \n",
       "4                    1408         40.0                9                0    0   \n",
       "\n",
       "   HDF  PWF  OSF  RNF  \n",
       "0    0    0    0    0  \n",
       "1    0    0    0    0  \n",
       "2    0    0    0    0  \n",
       "3    0    0    0    0  \n",
       "4    0    0    0    0  "
      ]
     },
     "execution_count": 5,
     "metadata": {},
     "output_type": "execute_result"
    }
   ],
   "source": [
    "df.head()"
   ]
  },
  {
   "cell_type": "markdown",
   "id": "ec0c0402",
   "metadata": {},
   "source": [
    "## Get the data ready"
   ]
  },
  {
   "cell_type": "code",
   "execution_count": 85,
   "id": "d6bc4694",
   "metadata": {},
   "outputs": [],
   "source": [
    "def col_name_cnvt(df):\n",
    "    '''\n",
    "    Take the columns needed,\n",
    "    and remove space and units, and replace column names with lowercase.\n",
    "    It does a inplace operation.\n",
    "    \n",
    "    Input: a dataframe\n",
    "    Return: a new dataframe.\n",
    "    '''\n",
    "    data = df.iloc[:, 2:-5]\n",
    "    col_labels = data.columns\n",
    "    col_labels = [label.split(' [')[0].lower() for label in col_labels]\n",
    "    col_labels = ['_'.join(label.split()) for label in col_labels]\n",
    "    data.columns = col_labels\n",
    "    return data"
   ]
  },
  {
   "cell_type": "code",
   "execution_count": 289,
   "id": "e85351ba",
   "metadata": {},
   "outputs": [
    {
     "data": {
      "text/html": [
       "<div>\n",
       "<style scoped>\n",
       "    .dataframe tbody tr th:only-of-type {\n",
       "        vertical-align: middle;\n",
       "    }\n",
       "\n",
       "    .dataframe tbody tr th {\n",
       "        vertical-align: top;\n",
       "    }\n",
       "\n",
       "    .dataframe thead th {\n",
       "        text-align: right;\n",
       "    }\n",
       "</style>\n",
       "<table border=\"1\" class=\"dataframe\">\n",
       "  <thead>\n",
       "    <tr style=\"text-align: right;\">\n",
       "      <th></th>\n",
       "      <th>type</th>\n",
       "      <th>air_temperature</th>\n",
       "      <th>process_temperature</th>\n",
       "      <th>rotational_speed</th>\n",
       "      <th>torque</th>\n",
       "      <th>tool_wear</th>\n",
       "      <th>machine_failure</th>\n",
       "    </tr>\n",
       "  </thead>\n",
       "  <tbody>\n",
       "    <tr>\n",
       "      <th>0</th>\n",
       "      <td>M</td>\n",
       "      <td>298.1</td>\n",
       "      <td>308.6</td>\n",
       "      <td>1551</td>\n",
       "      <td>42.8</td>\n",
       "      <td>0</td>\n",
       "      <td>0</td>\n",
       "    </tr>\n",
       "    <tr>\n",
       "      <th>1</th>\n",
       "      <td>L</td>\n",
       "      <td>298.2</td>\n",
       "      <td>308.7</td>\n",
       "      <td>1408</td>\n",
       "      <td>46.3</td>\n",
       "      <td>3</td>\n",
       "      <td>0</td>\n",
       "    </tr>\n",
       "    <tr>\n",
       "      <th>2</th>\n",
       "      <td>L</td>\n",
       "      <td>298.1</td>\n",
       "      <td>308.5</td>\n",
       "      <td>1498</td>\n",
       "      <td>49.4</td>\n",
       "      <td>5</td>\n",
       "      <td>0</td>\n",
       "    </tr>\n",
       "    <tr>\n",
       "      <th>3</th>\n",
       "      <td>L</td>\n",
       "      <td>298.2</td>\n",
       "      <td>308.6</td>\n",
       "      <td>1433</td>\n",
       "      <td>39.5</td>\n",
       "      <td>7</td>\n",
       "      <td>0</td>\n",
       "    </tr>\n",
       "    <tr>\n",
       "      <th>4</th>\n",
       "      <td>L</td>\n",
       "      <td>298.2</td>\n",
       "      <td>308.7</td>\n",
       "      <td>1408</td>\n",
       "      <td>40.0</td>\n",
       "      <td>9</td>\n",
       "      <td>0</td>\n",
       "    </tr>\n",
       "  </tbody>\n",
       "</table>\n",
       "</div>"
      ],
      "text/plain": [
       "  type  air_temperature  process_temperature  rotational_speed  torque  \\\n",
       "0    M            298.1                308.6              1551    42.8   \n",
       "1    L            298.2                308.7              1408    46.3   \n",
       "2    L            298.1                308.5              1498    49.4   \n",
       "3    L            298.2                308.6              1433    39.5   \n",
       "4    L            298.2                308.7              1408    40.0   \n",
       "\n",
       "   tool_wear  machine_failure  \n",
       "0          0                0  \n",
       "1          3                0  \n",
       "2          5                0  \n",
       "3          7                0  \n",
       "4          9                0  "
      ]
     },
     "execution_count": 289,
     "metadata": {},
     "output_type": "execute_result"
    }
   ],
   "source": [
    "data = hf.col_name_cnvt(df)\n",
    "data.head()"
   ]
  },
  {
   "cell_type": "markdown",
   "id": "b756a1a6",
   "metadata": {},
   "source": [
    "## Create a baseline model"
   ]
  },
  {
   "cell_type": "code",
   "execution_count": 95,
   "id": "34e456fe",
   "metadata": {},
   "outputs": [],
   "source": [
    "X = data.drop(columns='machine_failure')\n",
    "y = data.machine_failure"
   ]
  },
  {
   "cell_type": "code",
   "execution_count": 293,
   "id": "58bb378b",
   "metadata": {},
   "outputs": [],
   "source": [
    "# train test split\n",
    "# use stratify to enforce the proportion in the splits\n",
    "from sklearn.model_selection import train_test_split\n",
    "X_train, X_test, y_train, y_test = train_test_split(X, y, test_size=0.2, stratify=y)"
   ]
  },
  {
   "cell_type": "code",
   "execution_count": 294,
   "id": "1b993353",
   "metadata": {},
   "outputs": [
    {
     "data": {
      "text/html": [
       "<div>\n",
       "<style scoped>\n",
       "    .dataframe tbody tr th:only-of-type {\n",
       "        vertical-align: middle;\n",
       "    }\n",
       "\n",
       "    .dataframe tbody tr th {\n",
       "        vertical-align: top;\n",
       "    }\n",
       "\n",
       "    .dataframe thead th {\n",
       "        text-align: right;\n",
       "    }\n",
       "</style>\n",
       "<table border=\"1\" class=\"dataframe\">\n",
       "  <thead>\n",
       "    <tr style=\"text-align: right;\">\n",
       "      <th></th>\n",
       "      <th>type</th>\n",
       "      <th>air_temperature</th>\n",
       "      <th>process_temperature</th>\n",
       "      <th>rotational_speed</th>\n",
       "      <th>torque</th>\n",
       "      <th>tool_wear</th>\n",
       "    </tr>\n",
       "  </thead>\n",
       "  <tbody>\n",
       "    <tr>\n",
       "      <th>6792</th>\n",
       "      <td>L</td>\n",
       "      <td>301.2</td>\n",
       "      <td>310.6</td>\n",
       "      <td>1811</td>\n",
       "      <td>24.0</td>\n",
       "      <td>84</td>\n",
       "    </tr>\n",
       "    <tr>\n",
       "      <th>55</th>\n",
       "      <td>L</td>\n",
       "      <td>298.8</td>\n",
       "      <td>309.1</td>\n",
       "      <td>1512</td>\n",
       "      <td>40.7</td>\n",
       "      <td>156</td>\n",
       "    </tr>\n",
       "    <tr>\n",
       "      <th>5562</th>\n",
       "      <td>L</td>\n",
       "      <td>302.3</td>\n",
       "      <td>311.7</td>\n",
       "      <td>1648</td>\n",
       "      <td>32.1</td>\n",
       "      <td>197</td>\n",
       "    </tr>\n",
       "    <tr>\n",
       "      <th>3831</th>\n",
       "      <td>M</td>\n",
       "      <td>302.3</td>\n",
       "      <td>310.9</td>\n",
       "      <td>1742</td>\n",
       "      <td>29.7</td>\n",
       "      <td>137</td>\n",
       "    </tr>\n",
       "    <tr>\n",
       "      <th>5311</th>\n",
       "      <td>H</td>\n",
       "      <td>303.7</td>\n",
       "      <td>312.9</td>\n",
       "      <td>1460</td>\n",
       "      <td>49.8</td>\n",
       "      <td>2</td>\n",
       "    </tr>\n",
       "  </tbody>\n",
       "</table>\n",
       "</div>"
      ],
      "text/plain": [
       "     type  air_temperature  process_temperature  rotational_speed  torque  \\\n",
       "6792    L            301.2                310.6              1811    24.0   \n",
       "55      L            298.8                309.1              1512    40.7   \n",
       "5562    L            302.3                311.7              1648    32.1   \n",
       "3831    M            302.3                310.9              1742    29.7   \n",
       "5311    H            303.7                312.9              1460    49.8   \n",
       "\n",
       "      tool_wear  \n",
       "6792         84  \n",
       "55          156  \n",
       "5562        197  \n",
       "3831        137  \n",
       "5311          2  "
      ]
     },
     "execution_count": 294,
     "metadata": {},
     "output_type": "execute_result"
    }
   ],
   "source": [
    "X_train.head()"
   ]
  },
  {
   "cell_type": "markdown",
   "id": "6b0f7539",
   "metadata": {},
   "source": [
    "### 1. Build a Logistic Regression model using pipeline"
   ]
  },
  {
   "cell_type": "code",
   "execution_count": 303,
   "id": "291c2894",
   "metadata": {},
   "outputs": [],
   "source": [
    "from sklearn.preprocessing import OneHotEncoder, StandardScaler\n",
    "from sklearn.preprocessing import FunctionTransformer\n",
    "from sklearn.compose import make_column_selector, make_column_transformer\n",
    "from sklearn.pipeline import Pipeline\n",
    "from sklearn.linear_model import LogisticRegression\n",
    "\n",
    "proc_col_name = FunctionTransformer(hf.col_name_cnvt)\n",
    "ohe = OneHotEncoder()\n",
    "scaler = StandardScaler()\n",
    "\n",
    "cat_cols = make_column_selector(dtype_exclude='number')\n",
    "num_cols = make_column_selector(dtype_include='number')\n",
    "\n",
    "preprocessor = make_column_transformer(\n",
    "    (ohe, cat_cols),\n",
    "    (scaler, num_cols)\n",
    ")\n",
    "\n",
    "pipe = Pipeline([\n",
    "    ('prep', preprocessor),\n",
    "    ('model', LogisticRegression())\n",
    "])"
   ]
  },
  {
   "cell_type": "code",
   "execution_count": 304,
   "id": "8a4451ce",
   "metadata": {
    "collapsed": true
   },
   "outputs": [
    {
     "data": {
      "text/plain": [
       "Pipeline(steps=[('prep',\n",
       "                 ColumnTransformer(transformers=[('onehotencoder',\n",
       "                                                  OneHotEncoder(),\n",
       "                                                  <sklearn.compose._column_transformer.make_column_selector object at 0x00000230A0046310>),\n",
       "                                                 ('standardscaler',\n",
       "                                                  StandardScaler(),\n",
       "                                                  <sklearn.compose._column_transformer.make_column_selector object at 0x00000230A02AC250>)])),\n",
       "                ('model', LogisticRegression())])"
      ]
     },
     "execution_count": 304,
     "metadata": {},
     "output_type": "execute_result"
    }
   ],
   "source": [
    "pipe.fit(X_train, y_train,)"
   ]
  },
  {
   "cell_type": "markdown",
   "id": "569d8b1f",
   "metadata": {},
   "source": [
    "### 2. Evaluate the model performance"
   ]
  },
  {
   "cell_type": "code",
   "execution_count": 140,
   "id": "e3a603e2",
   "metadata": {},
   "outputs": [],
   "source": [
    "# import metrics\n",
    "from sklearn.metrics import ConfusionMatrixDisplay, RocCurveDisplay\n",
    "from sklearn.metrics import accuracy_score\n",
    "from sklearn.metrics import precision_score\n",
    "from sklearn.metrics import recall_score"
   ]
  },
  {
   "cell_type": "code",
   "execution_count": 297,
   "id": "f71501f9",
   "metadata": {},
   "outputs": [],
   "source": [
    "y_pred = pipe.predict(X_test)"
   ]
  },
  {
   "cell_type": "code",
   "execution_count": 263,
   "id": "da91e631",
   "metadata": {},
   "outputs": [],
   "source": [
    "def evaluate(y_test, y_pred):\n",
    "    '''print recall and precision, and display confusion matrix'''\n",
    "    print(f'Recall: {recall_score(y_test, y_pred)}')\n",
    "    print(f'Precision: {precision_score(y_test, y_pred)}')\n",
    "    ConfusionMatrixDisplay.from_predictions(y_test, y_pred);"
   ]
  },
  {
   "cell_type": "code",
   "execution_count": 298,
   "id": "c0215032",
   "metadata": {},
   "outputs": [
    {
     "name": "stdout",
     "output_type": "stream",
     "text": [
      "Recall: 0.17647058823529413\n",
      "Precision: 0.8571428571428571\n"
     ]
    },
    {
     "data": {
      "image/png": "[encoded data removed]",
      "text/plain": [
       "<Figure size 432x288 with 2 Axes>"
      ]
     },
     "metadata": {
      "needs_background": "light"
     },
     "output_type": "display_data"
    }
   ],
   "source": [
    "hf.evaluate(y_test, y_pred)"
   ]
  },
  {
   "cell_type": "code",
   "execution_count": 299,
   "id": "47fe1cdd",
   "metadata": {},
   "outputs": [
    {
     "data": {
      "image/png": "[encoded data removed]",
      "text/plain": [
       "<Figure size 432x288 with 1 Axes>"
      ]
     },
     "metadata": {
      "needs_background": "light"
     },
     "output_type": "display_data"
    }
   ],
   "source": [
    "# Consider the best cutoff threshold\n",
    "# It seems the 0.2 is a good choice\n",
    "RocCurveDisplay.from_estimator(pipe, X_test, y_test);"
   ]
  },
  {
   "cell_type": "code",
   "execution_count": 300,
   "id": "6f9171c9",
   "metadata": {},
   "outputs": [],
   "source": [
    "y_probs = pipe.predict_proba(X_test)"
   ]
  },
  {
   "cell_type": "code",
   "execution_count": 309,
   "id": "9e33458f",
   "metadata": {},
   "outputs": [],
   "source": [
    "# set the cutoff point at 0.15\n",
    "# and calculate the lables\n",
    "y_hats = [1 if y_prob[1] > 0.15 else 0 for y_prob in y_probs]"
   ]
  },
  {
   "cell_type": "code",
   "execution_count": 310,
   "id": "9d0a147a",
   "metadata": {
    "scrolled": true
   },
   "outputs": [
    {
     "name": "stdout",
     "output_type": "stream",
     "text": [
      "Recall: 0.5735294117647058\n",
      "Precision: 0.38613861386138615\n"
     ]
    },
    {
     "data": {
      "image/png": "[encoded data removed]",
      "text/plain": [
       "<Figure size 432x288 with 2 Axes>"
      ]
     },
     "metadata": {
      "needs_background": "light"
     },
     "output_type": "display_data"
    }
   ],
   "source": [
    "hf.evaluate(y_test, y_hats)"
   ]
  },
  {
   "cell_type": "markdown",
   "id": "60417644",
   "metadata": {},
   "source": [
    "Given the recall a more important metrics, we choise the cutoff of 0.15 (rather than 0.2). The bare-bone Logistic Regression achieves Recall of **57%**, and the precision of **38%**. "
   ]
  },
  {
   "cell_type": "markdown",
   "id": "e129b96d",
   "metadata": {},
   "source": [
    "### Hyperparameter Tuning"
   ]
  },
  {
   "cell_type": "code",
   "execution_count": 262,
   "id": "c7d0526c",
   "metadata": {},
   "outputs": [],
   "source": [
    "from sklearn.model_selection import GridSearchCV"
   ]
  },
  {
   "cell_type": "code",
   "execution_count": null,
   "id": "44c68dbc",
   "metadata": {},
   "outputs": [],
   "source": []
  }
 ],
 "metadata": {
  "kernelspec": {
   "display_name": "lhl_final",
   "language": "python",
   "name": "lhl_final"
  },
  "language_info": {
   "codemirror_mode": {
    "name": "ipython",
    "version": 3
   },
   "file_extension": ".py",
   "mimetype": "text/x-python",
   "name": "python",
   "nbconvert_exporter": "python",
   "pygments_lexer": "ipython3",
   "version": "3.8.5"
  }
 },
 "nbformat": 4,
 "nbformat_minor": 5
}
