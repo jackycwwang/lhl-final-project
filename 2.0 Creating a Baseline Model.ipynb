{
 "cells": [
  {
   "cell_type": "markdown",
   "id": "2f4234da",
   "metadata": {},
   "source": [
    "# 2.0 Creating a Baseline Model"
   ]
  },
  {
   "cell_type": "code",
   "execution_count": 1,
   "id": "d1707f53",
   "metadata": {},
   "outputs": [],
   "source": [
    "import numpy as np\n",
    "import pandas as pd\n",
    "import matplotlib.pyplot as plt\n",
    "\n",
    "import help_function as hf  # customized help functions\n",
    "\n",
    "%matplotlib inline\n",
    "\n",
    "df = pd.read_csv('data/ai4i2020.csv')\n",
    "\n",
    "X = df.drop(columns='Machine failure')\n",
    "y = df['Machine failure']\n",
    "\n",
    "# train test split\n",
    "# use stratify to enforce the proportion in the splits\n",
    "from sklearn.model_selection import train_test_split\n",
    "X_train, X_test, y_train, y_test = train_test_split(X, y, test_size=0.2, stratify=y)"
   ]
  },
  {
   "cell_type": "markdown",
   "id": "b4ece79a",
   "metadata": {},
   "source": [
    "## Create a baseline model"
   ]
  },
  {
   "cell_type": "markdown",
   "id": "220ef991",
   "metadata": {},
   "source": [
    "### 1. Build a Logistic Regression model using pipeline"
   ]
  },
  {
   "cell_type": "code",
   "execution_count": 2,
   "id": "324350af",
   "metadata": {},
   "outputs": [],
   "source": [
    "from sklearn.linear_model import LogisticRegression\n",
    "clf = LogisticRegression()\n",
    "pipe = hf.create_pipe(clf)"
   ]
  },
  {
   "cell_type": "code",
   "execution_count": 3,
   "id": "a3e0c595",
   "metadata": {
    "collapsed": true
   },
   "outputs": [
    {
     "data": {
      "text/plain": [
       "Pipeline(steps=[('proc_cols',\n",
       "                 FunctionTransformer(func=<function col_name_cnvt at 0x0000023CB6CC4700>)),\n",
       "                ('prep',\n",
       "                 ColumnTransformer(transformers=[('onehotencoder',\n",
       "                                                  OneHotEncoder(),\n",
       "                                                  <sklearn.compose._column_transformer.make_column_selector object at 0x0000023CB3B81BB0>),\n",
       "                                                 ('standardscaler',\n",
       "                                                  StandardScaler(),\n",
       "                                                  <sklearn.compose._column_transformer.make_column_selector object at 0x0000023CB3B81160>)])),\n",
       "                ('model', LogisticRegression())])"
      ]
     },
     "execution_count": 3,
     "metadata": {},
     "output_type": "execute_result"
    }
   ],
   "source": [
    "pipe.fit(X_train, y_train)"
   ]
  },
  {
   "cell_type": "markdown",
   "id": "f7b5bfea",
   "metadata": {},
   "source": [
    "### 2. Evaluate the model performance"
   ]
  },
  {
   "cell_type": "markdown",
   "id": "6705e8b9",
   "metadata": {},
   "source": [
    "#### Use hard decision"
   ]
  },
  {
   "cell_type": "code",
   "execution_count": 4,
   "id": "0db708b6",
   "metadata": {},
   "outputs": [],
   "source": [
    "y_pred = pipe.predict(X_test)"
   ]
  },
  {
   "cell_type": "code",
   "execution_count": 5,
   "id": "f6ec58b9",
   "metadata": {},
   "outputs": [
    {
     "data": {
      "text/plain": [
       "{'recall': 0.17647058823529413,\n",
       " 'precision': 0.8571428571428571,\n",
       " 'f1': 0.29268292682926833}"
      ]
     },
     "execution_count": 5,
     "metadata": {},
     "output_type": "execute_result"
    },
    {
     "data": {
      "image/png": "[encoded data removed]",
      "text/plain": [
       "<Figure size 432x288 with 2 Axes>"
      ]
     },
     "metadata": {
      "needs_background": "light"
     },
     "output_type": "display_data"
    }
   ],
   "source": [
    "hf.evaluate(y_test, y_pred)"
   ]
  },
  {
   "cell_type": "markdown",
   "id": "487e526a",
   "metadata": {},
   "source": [
    "- Hard decision does not do a good job, the recall is very low."
   ]
  },
  {
   "cell_type": "markdown",
   "id": "6b86579f",
   "metadata": {},
   "source": [
    "#### Use soft decision"
   ]
  },
  {
   "cell_type": "code",
   "execution_count": 6,
   "id": "edecab1e",
   "metadata": {},
   "outputs": [
    {
     "data": {
      "image/png": "[encoded data removed]",
      "text/plain": [
       "<Figure size 432x288 with 1 Axes>"
      ]
     },
     "metadata": {
      "needs_background": "light"
     },
     "output_type": "display_data"
    }
   ],
   "source": [
    "# Search for the best cutoff threshold\n",
    "# It seems the 0.15 is a good choice\n",
    "hf.RocCurveDisplay.from_estimator(pipe, X_test, y_test);"
   ]
  },
  {
   "cell_type": "code",
   "execution_count": 7,
   "id": "4fbdaa0f",
   "metadata": {},
   "outputs": [],
   "source": [
    "# def soft_to_hard(model, X_test, cutoff):\n",
    "#     y_probs = model.predict_proba(X_test)\n",
    "#     y_hats = [1 if y_prob[1] > cutoff else 0 for y_prob in y_probs]\n",
    "#     return y_hats"
   ]
  },
  {
   "cell_type": "code",
   "execution_count": 19,
   "id": "414d0d18",
   "metadata": {},
   "outputs": [
    {
     "data": {
      "text/plain": [
       "{'recall': 0.5294117647058824,\n",
       " 'precision': 0.3364485981308411,\n",
       " 'f1': 0.4114285714285714}"
      ]
     },
     "execution_count": 19,
     "metadata": {},
     "output_type": "execute_result"
    },
    {
     "data": {
      "image/png": "[encoded data removed]",
      "text/plain": [
       "<Figure size 432x288 with 2 Axes>"
      ]
     },
     "metadata": {
      "needs_background": "light"
     },
     "output_type": "display_data"
    }
   ],
   "source": [
    "# Seems reasonable to set the cutoff point at 0.13\n",
    "# and calculate the lables\n",
    "y_hats = hf.soft_to_hard(pipe, X_test, cutoff=0.13)\n",
    "hf.evaluate(y_test, y_hats)"
   ]
  },
  {
   "cell_type": "markdown",
   "id": "158e92fe",
   "metadata": {},
   "source": [
    "Given the recall a more important metrics, we choise the cutoff of 0.13. The bare-bone Logistic Regression achieves Recall of **~53%**, and the precision of **~34%**. "
   ]
  },
  {
   "cell_type": "markdown",
   "id": "7e64b492",
   "metadata": {},
   "source": [
    "### Cross validation"
   ]
  },
  {
   "cell_type": "code",
   "execution_count": 26,
   "id": "6639f578",
   "metadata": {},
   "outputs": [],
   "source": [
    "from sklearn.model_selection import StratifiedKFold, KFold\n",
    "\n",
    "k_fold = 30        # set 30 splits\n",
    "kf = KFold(n_splits=k_fold)\n",
    "\n",
    "# do the split and train\n",
    "scores = []\n",
    "for train_idx, test_idx in kf.split(X_train):    \n",
    "    X_train_fold, X_test_fold = X_train.iloc[train_idx], X_train.iloc[test_idx]\n",
    "    y_train_fold, y_test_fold = y_train.iloc[train_idx], y_train.iloc[test_idx]    \n",
    "    \n",
    "    pipe.fit(X_train_fold, y_train_fold)\n",
    "    y_hats = hf.soft_to_hard(pipe, X_test_fold, cutoff=0.13)  # use the same cutoff value\n",
    "    score = hf.evaluate(y_test_fold, y_hats, cm=False)\n",
    "    scores.append(score)"
   ]
  },
  {
   "cell_type": "code",
   "execution_count": 27,
   "id": "61bdd878",
   "metadata": {},
   "outputs": [
    {
     "name": "stdout",
     "output_type": "stream",
     "text": [
      "Mean Recall:  0.6198563473563473\n",
      "Mean Precision:  0.3575832522622131\n",
      "Mean F1:  0.43919371986615463\n"
     ]
    }
   ],
   "source": [
    "# calculate the average recall, precision, and f1\n",
    "recall, precision, f1 = [], [], []\n",
    "for score in scores:    \n",
    "    recall.append(score['recall'])\n",
    "    precision.append(score['precision'])\n",
    "    f1.append(score['f1'])\n",
    "print('Mean Recall: ', np.array(recall).mean())\n",
    "print('Mean Precision: ', np.array(precision).mean())\n",
    "print('Mean F1: ', np.array(f1).mean())"
   ]
  },
  {
   "cell_type": "markdown",
   "id": "0899b64c",
   "metadata": {},
   "source": [
    "- The soft decision with cross validation shows a better result."
   ]
  },
  {
   "cell_type": "markdown",
   "id": "701b541b",
   "metadata": {},
   "source": [
    "### Hyperparameter Tuning"
   ]
  },
  {
   "cell_type": "code",
   "execution_count": 23,
   "id": "00757805",
   "metadata": {
    "collapsed": true
   },
   "outputs": [
    {
     "data": {
      "text/plain": [
       "GridSearchCV(cv=20,\n",
       "             estimator=Pipeline(steps=[('proc_cols',\n",
       "                                        FunctionTransformer(func=<function col_name_cnvt at 0x0000023CB6CC4700>)),\n",
       "                                       ('prep',\n",
       "                                        ColumnTransformer(transformers=[('onehotencoder',\n",
       "                                                                         OneHotEncoder(),\n",
       "                                                                         <sklearn.compose._column_transformer.make_column_selector object at 0x0000023CB3B81BB0>),\n",
       "                                                                        ('standardscaler',\n",
       "                                                                         StandardScaler(),\n",
       "                                                                         <sklearn.compose._column_transformer.make_column_selector object at 0x0000023CB3B81160>)])),\n",
       "                                       ('model', LogisticRegression())]),\n",
       "             param_grid={'model__l1_ratio': [0, 0.5, 1],\n",
       "                         'model__max_iter': [500, 1000, 2000, 5000],\n",
       "                         'model__penalty': ['elasticnet'],\n",
       "                         'model__solver': ['saga']},\n",
       "             scoring='recall')"
      ]
     },
     "execution_count": 23,
     "metadata": {},
     "output_type": "execute_result"
    }
   ],
   "source": [
    "from sklearn.model_selection import GridSearchCV\n",
    "\n",
    "param_grid = {\n",
    "    'model__penalty': ['elasticnet'],\n",
    "    'model__max_iter': [500, 1000, 2000, 5000],\n",
    "    'model__l1_ratio': [0, 0.5, 1],\n",
    "    'model__solver': ['saga']\n",
    "}\n",
    "\n",
    "grid = GridSearchCV(pipe, param_grid=param_grid, cv=20, scoring='recall', refit=True)\n",
    "\n",
    "grid.fit(X_train, y_train)"
   ]
  },
  {
   "cell_type": "code",
   "execution_count": 24,
   "id": "69110797",
   "metadata": {},
   "outputs": [
    {
     "data": {
      "text/plain": [
       "{'model__l1_ratio': 0.5,\n",
       " 'model__max_iter': 500,\n",
       " 'model__penalty': 'elasticnet',\n",
       " 'model__solver': 'saga'}"
      ]
     },
     "execution_count": 24,
     "metadata": {},
     "output_type": "execute_result"
    }
   ],
   "source": [
    "grid.best_params_"
   ]
  },
  {
   "cell_type": "code",
   "execution_count": 25,
   "id": "a3c8dc42",
   "metadata": {},
   "outputs": [
    {
     "data": {
      "text/plain": [
       "{'recall': 0.5294117647058824,\n",
       " 'precision': 0.33962264150943394,\n",
       " 'f1': 0.41379310344827586}"
      ]
     },
     "execution_count": 25,
     "metadata": {},
     "output_type": "execute_result"
    },
    {
     "data": {
      "image/png": "[encoded data removed]",
      "text/plain": [
       "<Figure size 432x288 with 2 Axes>"
      ]
     },
     "metadata": {
      "needs_background": "light"
     },
     "output_type": "display_data"
    }
   ],
   "source": [
    "y_grid_probs = grid.predict_proba(X_test)\n",
    "y_grid_hats = [1 if y_prob[1] > 0.13 else 0 for y_prob in y_grid_probs]\n",
    "hf.evaluate(y_test, y_grid_hats)"
   ]
  },
  {
   "cell_type": "markdown",
   "id": "9fdeacf0",
   "metadata": {},
   "source": [
    "- Even with the best parameters, the model performance does not improve much. \n",
    "\n"
   ]
  },
  {
   "cell_type": "code",
   "execution_count": null,
   "id": "d4447be0",
   "metadata": {},
   "outputs": [],
   "source": []
  }
 ],
 "metadata": {
  "kernelspec": {
   "display_name": "lhl_final",
   "language": "python",
   "name": "lhl_final"
  },
  "language_info": {
   "codemirror_mode": {
    "name": "ipython",
    "version": 3
   },
   "file_extension": ".py",
   "mimetype": "text/x-python",
   "name": "python",
   "nbconvert_exporter": "python",
   "pygments_lexer": "ipython3",
   "version": "3.8.5"
  }
 },
 "nbformat": 4,
 "nbformat_minor": 5
}
