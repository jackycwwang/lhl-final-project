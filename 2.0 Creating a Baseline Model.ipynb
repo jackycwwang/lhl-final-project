{
 "cells": [
  {
   "cell_type": "markdown",
   "id": "2f4234da",
   "metadata": {},
   "source": [
    "# 2.0 Creating a Baseline Model"
   ]
  },
  {
   "cell_type": "code",
   "execution_count": 1,
   "id": "d1707f53",
   "metadata": {},
   "outputs": [],
   "source": [
    "import numpy as np\n",
    "import pandas as pd\n",
    "import matplotlib.pyplot as plt\n",
    "\n",
    "import help_function as hf  # customized help functions\n",
    "\n",
    "%matplotlib inline"
   ]
  },
  {
   "cell_type": "code",
   "execution_count": 2,
   "id": "c270bc3e",
   "metadata": {},
   "outputs": [],
   "source": [
    "df = pd.read_csv('data/ai4i2020.csv')"
   ]
  },
  {
   "cell_type": "code",
   "execution_count": 3,
   "id": "5e739487",
   "metadata": {},
   "outputs": [
    {
     "data": {
      "text/html": [
       "<div>\n",
       "<style scoped>\n",
       "    .dataframe tbody tr th:only-of-type {\n",
       "        vertical-align: middle;\n",
       "    }\n",
       "\n",
       "    .dataframe tbody tr th {\n",
       "        vertical-align: top;\n",
       "    }\n",
       "\n",
       "    .dataframe thead th {\n",
       "        text-align: right;\n",
       "    }\n",
       "</style>\n",
       "<table border=\"1\" class=\"dataframe\">\n",
       "  <thead>\n",
       "    <tr style=\"text-align: right;\">\n",
       "      <th></th>\n",
       "      <th>UDI</th>\n",
       "      <th>Product ID</th>\n",
       "      <th>Type</th>\n",
       "      <th>Air temperature [K]</th>\n",
       "      <th>Process temperature [K]</th>\n",
       "      <th>Rotational speed [rpm]</th>\n",
       "      <th>Torque [Nm]</th>\n",
       "      <th>Tool wear [min]</th>\n",
       "      <th>Machine failure</th>\n",
       "      <th>TWF</th>\n",
       "      <th>HDF</th>\n",
       "      <th>PWF</th>\n",
       "      <th>OSF</th>\n",
       "      <th>RNF</th>\n",
       "    </tr>\n",
       "  </thead>\n",
       "  <tbody>\n",
       "    <tr>\n",
       "      <th>0</th>\n",
       "      <td>1</td>\n",
       "      <td>M14860</td>\n",
       "      <td>M</td>\n",
       "      <td>298.1</td>\n",
       "      <td>308.6</td>\n",
       "      <td>1551</td>\n",
       "      <td>42.8</td>\n",
       "      <td>0</td>\n",
       "      <td>0</td>\n",
       "      <td>0</td>\n",
       "      <td>0</td>\n",
       "      <td>0</td>\n",
       "      <td>0</td>\n",
       "      <td>0</td>\n",
       "    </tr>\n",
       "    <tr>\n",
       "      <th>1</th>\n",
       "      <td>2</td>\n",
       "      <td>L47181</td>\n",
       "      <td>L</td>\n",
       "      <td>298.2</td>\n",
       "      <td>308.7</td>\n",
       "      <td>1408</td>\n",
       "      <td>46.3</td>\n",
       "      <td>3</td>\n",
       "      <td>0</td>\n",
       "      <td>0</td>\n",
       "      <td>0</td>\n",
       "      <td>0</td>\n",
       "      <td>0</td>\n",
       "      <td>0</td>\n",
       "    </tr>\n",
       "    <tr>\n",
       "      <th>2</th>\n",
       "      <td>3</td>\n",
       "      <td>L47182</td>\n",
       "      <td>L</td>\n",
       "      <td>298.1</td>\n",
       "      <td>308.5</td>\n",
       "      <td>1498</td>\n",
       "      <td>49.4</td>\n",
       "      <td>5</td>\n",
       "      <td>0</td>\n",
       "      <td>0</td>\n",
       "      <td>0</td>\n",
       "      <td>0</td>\n",
       "      <td>0</td>\n",
       "      <td>0</td>\n",
       "    </tr>\n",
       "    <tr>\n",
       "      <th>3</th>\n",
       "      <td>4</td>\n",
       "      <td>L47183</td>\n",
       "      <td>L</td>\n",
       "      <td>298.2</td>\n",
       "      <td>308.6</td>\n",
       "      <td>1433</td>\n",
       "      <td>39.5</td>\n",
       "      <td>7</td>\n",
       "      <td>0</td>\n",
       "      <td>0</td>\n",
       "      <td>0</td>\n",
       "      <td>0</td>\n",
       "      <td>0</td>\n",
       "      <td>0</td>\n",
       "    </tr>\n",
       "    <tr>\n",
       "      <th>4</th>\n",
       "      <td>5</td>\n",
       "      <td>L47184</td>\n",
       "      <td>L</td>\n",
       "      <td>298.2</td>\n",
       "      <td>308.7</td>\n",
       "      <td>1408</td>\n",
       "      <td>40.0</td>\n",
       "      <td>9</td>\n",
       "      <td>0</td>\n",
       "      <td>0</td>\n",
       "      <td>0</td>\n",
       "      <td>0</td>\n",
       "      <td>0</td>\n",
       "      <td>0</td>\n",
       "    </tr>\n",
       "  </tbody>\n",
       "</table>\n",
       "</div>"
      ],
      "text/plain": [
       "   UDI Product ID Type  Air temperature [K]  Process temperature [K]  \\\n",
       "0    1     M14860    M                298.1                    308.6   \n",
       "1    2     L47181    L                298.2                    308.7   \n",
       "2    3     L47182    L                298.1                    308.5   \n",
       "3    4     L47183    L                298.2                    308.6   \n",
       "4    5     L47184    L                298.2                    308.7   \n",
       "\n",
       "   Rotational speed [rpm]  Torque [Nm]  Tool wear [min]  Machine failure  TWF  \\\n",
       "0                    1551         42.8                0                0    0   \n",
       "1                    1408         46.3                3                0    0   \n",
       "2                    1498         49.4                5                0    0   \n",
       "3                    1433         39.5                7                0    0   \n",
       "4                    1408         40.0                9                0    0   \n",
       "\n",
       "   HDF  PWF  OSF  RNF  \n",
       "0    0    0    0    0  \n",
       "1    0    0    0    0  \n",
       "2    0    0    0    0  \n",
       "3    0    0    0    0  \n",
       "4    0    0    0    0  "
      ]
     },
     "execution_count": 3,
     "metadata": {},
     "output_type": "execute_result"
    }
   ],
   "source": [
    "df.head()"
   ]
  },
  {
   "cell_type": "code",
   "execution_count": 4,
   "id": "ee4bc17c",
   "metadata": {},
   "outputs": [],
   "source": [
    "X = df.drop(columns='Machine failure')\n",
    "y = df['Machine failure']"
   ]
  },
  {
   "cell_type": "code",
   "execution_count": 5,
   "id": "c1116807",
   "metadata": {},
   "outputs": [],
   "source": [
    "# train test split\n",
    "# use stratify to enforce the proportion in the splits\n",
    "from sklearn.model_selection import train_test_split\n",
    "X_train, X_test, y_train, y_test = train_test_split(X, y, test_size=0.2, stratify=y)"
   ]
  },
  {
   "cell_type": "markdown",
   "id": "b4ece79a",
   "metadata": {},
   "source": [
    "## Create a baseline model"
   ]
  },
  {
   "cell_type": "markdown",
   "id": "220ef991",
   "metadata": {},
   "source": [
    "### 1. Build a Logistic Regression model using pipeline"
   ]
  },
  {
   "cell_type": "code",
   "execution_count": 6,
   "id": "324350af",
   "metadata": {},
   "outputs": [],
   "source": [
    "from sklearn.linear_model import LogisticRegression\n",
    "clf = LogisticRegression()\n",
    "pipe = hf.create_pipe(clf)"
   ]
  },
  {
   "cell_type": "code",
   "execution_count": 7,
   "id": "a3e0c595",
   "metadata": {
    "collapsed": true
   },
   "outputs": [
    {
     "data": {
      "text/plain": [
       "Pipeline(steps=[('proc_cols',\n",
       "                 FunctionTransformer(func=<function col_name_cnvt at 0x0000028246512670>)),\n",
       "                ('prep',\n",
       "                 ColumnTransformer(transformers=[('onehotencoder',\n",
       "                                                  OneHotEncoder(),\n",
       "                                                  <sklearn.compose._column_transformer.make_column_selector object at 0x00000282433B7580>),\n",
       "                                                 ('standardscaler',\n",
       "                                                  StandardScaler(),\n",
       "                                                  <sklearn.compose._column_transformer.make_column_selector object at 0x00000282433B7670>)])),\n",
       "                ('model', LogisticRegression())])"
      ]
     },
     "execution_count": 7,
     "metadata": {},
     "output_type": "execute_result"
    }
   ],
   "source": [
    "pipe.fit(X_train, y_train)"
   ]
  },
  {
   "cell_type": "markdown",
   "id": "f7b5bfea",
   "metadata": {},
   "source": [
    "### 2. Evaluate the model performance"
   ]
  },
  {
   "cell_type": "markdown",
   "id": "6705e8b9",
   "metadata": {},
   "source": [
    "#### Use hard decision"
   ]
  },
  {
   "cell_type": "code",
   "execution_count": 8,
   "id": "0db708b6",
   "metadata": {},
   "outputs": [],
   "source": [
    "y_pred = pipe.predict(X_test)"
   ]
  },
  {
   "cell_type": "code",
   "execution_count": 9,
   "id": "f6ec58b9",
   "metadata": {},
   "outputs": [
    {
     "name": "stdout",
     "output_type": "stream",
     "text": [
      "Recall: 0.22058823529411764\n",
      "Precision: 0.6521739130434783\n"
     ]
    },
    {
     "data": {
      "image/png": "[encoded data removed]",
      "text/plain": [
       "<Figure size 432x288 with 2 Axes>"
      ]
     },
     "metadata": {
      "needs_background": "light"
     },
     "output_type": "display_data"
    }
   ],
   "source": [
    "hf.evaluate(y_test, y_pred)"
   ]
  },
  {
   "cell_type": "markdown",
   "id": "487e526a",
   "metadata": {},
   "source": [
    "- Hard decision does not do a good job, the recall is very low."
   ]
  },
  {
   "cell_type": "markdown",
   "id": "6b86579f",
   "metadata": {},
   "source": [
    "#### Use soft decision"
   ]
  },
  {
   "cell_type": "code",
   "execution_count": 10,
   "id": "edecab1e",
   "metadata": {},
   "outputs": [
    {
     "data": {
      "image/png": "[encoded data removed]",
      "text/plain": [
       "<Figure size 432x288 with 1 Axes>"
      ]
     },
     "metadata": {
      "needs_background": "light"
     },
     "output_type": "display_data"
    }
   ],
   "source": [
    "# Search for the best cutoff threshold\n",
    "# It seems the 0.15 is a good choice\n",
    "hf.RocCurveDisplay.from_estimator(pipe, X_test, y_test);"
   ]
  },
  {
   "cell_type": "code",
   "execution_count": 20,
   "id": "32755cb2",
   "metadata": {},
   "outputs": [
    {
     "name": "stdout",
     "output_type": "stream",
     "text": [
      "Recall: 0.5735294117647058\n",
      "Precision: 0.319672131147541\n"
     ]
    },
    {
     "data": {
      "image/png": "[encoded data removed]",
      "text/plain": [
       "<Figure size 432x288 with 2 Axes>"
      ]
     },
     "metadata": {
      "needs_background": "light"
     },
     "output_type": "display_data"
    }
   ],
   "source": [
    "# Seems reasonable to set the cutoff point at 0.13\n",
    "# and calculate the lables\n",
    "y_probs = pipe.predict_proba(X_test)\n",
    "y_hats = [1 if y_prob[1] > 0.13 else 0 for y_prob in y_probs]\n",
    "hf.evaluate(y_test, y_hats)"
   ]
  },
  {
   "cell_type": "markdown",
   "id": "158e92fe",
   "metadata": {},
   "source": [
    "Given the recall a more important metrics, we choise the cutoff of 0.13. The bare-bone Logistic Regression achieves Recall of **57%**, and the precision of **32%**. "
   ]
  },
  {
   "cell_type": "markdown",
   "id": "7e64b492",
   "metadata": {},
   "source": [
    "### Cross validation"
   ]
  },
  {
   "cell_type": "code",
   "execution_count": 12,
   "id": "ce59c261",
   "metadata": {},
   "outputs": [
    {
     "name": "stdout",
     "output_type": "stream",
     "text": [
      "Recall: \n",
      "[0.07692308 0.15384615 0.07692308 0.         0.07692308 0.15384615\n",
      " 0.07692308 0.07692308 0.07692308 0.07142857 0.28571429 0.14285714\n",
      " 0.28571429 0.14285714 0.57142857 0.21428571 0.14285714 0.42857143\n",
      " 0.28571429 0.21428571]\n",
      "Precision: \n",
      "[0.5        1.         0.33333333 0.         0.33333333 0.66666667\n",
      " 1.         1.         0.5        0.5        0.8        0.5\n",
      " 1.         0.5        0.88888889 0.75       0.66666667 1.\n",
      " 0.66666667 0.75      ]\n"
     ]
    }
   ],
   "source": [
    "from sklearn.model_selection import cross_validate\n",
    "scoring = ['recall', 'precision']\n",
    "cv = cross_validate(pipe, X_train, y_train, cv=20, scoring=scoring)\n",
    "print(f\"Recall: \\n{cv['test_recall']}\")\n",
    "print(f\"Precision: \\n{cv['test_precision']}\")"
   ]
  },
  {
   "cell_type": "markdown",
   "id": "0899b64c",
   "metadata": {},
   "source": [
    "- The model is clearly under-fitting. This returns a hard decision score. However in our case, cross validation is not very necessary since we have plenty of data."
   ]
  },
  {
   "cell_type": "markdown",
   "id": "701b541b",
   "metadata": {},
   "source": [
    "### Hyperparameter Tuning"
   ]
  },
  {
   "cell_type": "code",
   "execution_count": 13,
   "id": "00757805",
   "metadata": {
    "collapsed": true
   },
   "outputs": [
    {
     "data": {
      "text/plain": [
       "GridSearchCV(cv=20,\n",
       "             estimator=Pipeline(steps=[('proc_cols',\n",
       "                                        FunctionTransformer(func=<function col_name_cnvt at 0x0000028246512670>)),\n",
       "                                       ('prep',\n",
       "                                        ColumnTransformer(transformers=[('onehotencoder',\n",
       "                                                                         OneHotEncoder(),\n",
       "                                                                         <sklearn.compose._column_transformer.make_column_selector object at 0x00000282433B7580>),\n",
       "                                                                        ('standardscaler',\n",
       "                                                                         StandardScaler(),\n",
       "                                                                         <sklearn.compose._column_transformer.make_column_selector object at 0x00000282433B7670>)])),\n",
       "                                       ('model', LogisticRegression())]),\n",
       "             param_grid={'model__l1_ratio': [0, 0.5, 1],\n",
       "                         'model__max_iter': [500, 1000, 2000, 5000],\n",
       "                         'model__penalty': ['elasticnet'],\n",
       "                         'model__solver': ['saga']},\n",
       "             scoring='recall')"
      ]
     },
     "execution_count": 13,
     "metadata": {},
     "output_type": "execute_result"
    }
   ],
   "source": [
    "from sklearn.model_selection import GridSearchCV\n",
    "\n",
    "param_grid = {\n",
    "    'model__penalty': ['elasticnet'],\n",
    "    'model__max_iter': [500, 1000, 2000, 5000],\n",
    "    'model__l1_ratio': [0, 0.5, 1],\n",
    "    'model__solver': ['saga']\n",
    "}\n",
    "\n",
    "grid = GridSearchCV(pipe, param_grid=param_grid, cv=20, scoring='recall', refit=True)\n",
    "\n",
    "grid.fit(X_train, y_train)"
   ]
  },
  {
   "cell_type": "code",
   "execution_count": 14,
   "id": "69110797",
   "metadata": {},
   "outputs": [
    {
     "data": {
      "text/plain": [
       "{'model__l1_ratio': 1,\n",
       " 'model__max_iter': 500,\n",
       " 'model__penalty': 'elasticnet',\n",
       " 'model__solver': 'saga'}"
      ]
     },
     "execution_count": 14,
     "metadata": {},
     "output_type": "execute_result"
    }
   ],
   "source": [
    "grid.best_params_"
   ]
  },
  {
   "cell_type": "code",
   "execution_count": 21,
   "id": "a3c8dc42",
   "metadata": {},
   "outputs": [
    {
     "name": "stdout",
     "output_type": "stream",
     "text": [
      "Recall: 0.5735294117647058\n",
      "Precision: 0.319672131147541\n"
     ]
    },
    {
     "data": {
      "image/png": "[encoded data removed]",
      "text/plain": [
       "<Figure size 432x288 with 2 Axes>"
      ]
     },
     "metadata": {
      "needs_background": "light"
     },
     "output_type": "display_data"
    }
   ],
   "source": [
    "y_grid_probs = grid.predict_proba(X_test)\n",
    "y_grid_hats = [1 if y_prob[1] > 0.13 else 0 for y_prob in y_grid_probs]\n",
    "hf.evaluate(y_test, y_grid_hats)"
   ]
  },
  {
   "cell_type": "markdown",
   "id": "9fdeacf0",
   "metadata": {},
   "source": [
    "Even with the best parameters, the model performance does not improve at all. \n",
    "\n",
    "So our baseline model has **Recall: ~57%**, and **Precision: ~32%**."
   ]
  }
 ],
 "metadata": {
  "kernelspec": {
   "display_name": "lhl_final",
   "language": "python",
   "name": "lhl_final"
  },
  "language_info": {
   "codemirror_mode": {
    "name": "ipython",
    "version": 3
   },
   "file_extension": ".py",
   "mimetype": "text/x-python",
   "name": "python",
   "nbconvert_exporter": "python",
   "pygments_lexer": "ipython3",
   "version": "3.8.5"
  }
 },
 "nbformat": 4,
 "nbformat_minor": 5
}
