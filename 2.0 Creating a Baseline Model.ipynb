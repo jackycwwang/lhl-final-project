{
 "cells": [
  {
   "cell_type": "markdown",
   "id": "2f4234da",
   "metadata": {},
   "source": [
    "# 2.0 Creating a Baseline Model"
   ]
  },
  {
   "cell_type": "code",
   "execution_count": 17,
   "id": "d1707f53",
   "metadata": {},
   "outputs": [],
   "source": [
    "import numpy as np\n",
    "import pandas as pd\n",
    "import matplotlib.pyplot as plt\n",
    "\n",
    "import help_function as hf  # customized help functions\n",
    "\n",
    "%matplotlib inline\n",
    "\n",
    "df = pd.read_csv('data/ai4i2020.csv')\n",
    "\n",
    "X = df.drop(columns='Machine failure')\n",
    "y = df['Machine failure']\n",
    "\n",
    "# train test split\n",
    "# use stratify to enforce the proportion in the splits\n",
    "from sklearn.model_selection import train_test_split\n",
    "X_train, X_test, y_train, y_test = train_test_split(X, y, test_size=0.2, stratify=y)"
   ]
  },
  {
   "cell_type": "markdown",
   "id": "b4ece79a",
   "metadata": {},
   "source": [
    "## Create a baseline model"
   ]
  },
  {
   "cell_type": "markdown",
   "id": "220ef991",
   "metadata": {},
   "source": [
    "### 1. Build a Logistic Regression model using pipeline"
   ]
  },
  {
   "cell_type": "code",
   "execution_count": 18,
   "id": "324350af",
   "metadata": {},
   "outputs": [],
   "source": [
    "from sklearn.linear_model import LogisticRegression\n",
    "clf = LogisticRegression()\n",
    "pipe = hf.create_pipe(clf)"
   ]
  },
  {
   "cell_type": "code",
   "execution_count": 19,
   "id": "a3e0c595",
   "metadata": {
    "collapsed": true
   },
   "outputs": [
    {
     "data": {
      "text/plain": [
       "Pipeline(steps=[('proc_cols',\n",
       "                 FunctionTransformer(func=<function col_name_cnvt at 0x000002D182954700>)),\n",
       "                ('prep',\n",
       "                 ColumnTransformer(transformers=[('onehotencoder',\n",
       "                                                  OneHotEncoder(),\n",
       "                                                  <sklearn.compose._column_transformer.make_column_selector object at 0x000002D184DC26D0>),\n",
       "                                                 ('standardscaler',\n",
       "                                                  StandardScaler(),\n",
       "                                                  <sklearn.compose._column_transformer.make_column_selector object at 0x000002D184DC2190>)])),\n",
       "                ('model', LogisticRegression())])"
      ]
     },
     "execution_count": 19,
     "metadata": {},
     "output_type": "execute_result"
    }
   ],
   "source": [
    "pipe.fit(X_train, y_train)"
   ]
  },
  {
   "cell_type": "markdown",
   "id": "f7b5bfea",
   "metadata": {},
   "source": [
    "### 2. Evaluate the model performance"
   ]
  },
  {
   "cell_type": "markdown",
   "id": "6705e8b9",
   "metadata": {},
   "source": [
    "#### Use hard decision"
   ]
  },
  {
   "cell_type": "code",
   "execution_count": 20,
   "id": "0db708b6",
   "metadata": {},
   "outputs": [],
   "source": [
    "y_pred = pipe.predict(X_test)"
   ]
  },
  {
   "cell_type": "code",
   "execution_count": 21,
   "id": "f6ec58b9",
   "metadata": {},
   "outputs": [
    {
     "data": {
      "text/plain": [
       "{'recall': 0.25, 'precision': 0.6071428571428571, 'f1': 0.3541666666666667}"
      ]
     },
     "execution_count": 21,
     "metadata": {},
     "output_type": "execute_result"
    },
    {
     "data": {
      "image/png": "[encoded data removed]",
      "text/plain": [
       "<Figure size 432x288 with 2 Axes>"
      ]
     },
     "metadata": {
      "needs_background": "light"
     },
     "output_type": "display_data"
    }
   ],
   "source": [
    "hf.evaluate(y_test, y_pred)"
   ]
  },
  {
   "cell_type": "markdown",
   "id": "487e526a",
   "metadata": {},
   "source": [
    "- Hard decision does not do a good job, the recall is very low."
   ]
  },
  {
   "cell_type": "markdown",
   "id": "6b86579f",
   "metadata": {},
   "source": [
    "#### Use soft decision"
   ]
  },
  {
   "cell_type": "code",
   "execution_count": 22,
   "id": "edecab1e",
   "metadata": {},
   "outputs": [
    {
     "data": {
      "image/png": "[encoded data removed]",
      "text/plain": [
       "<Figure size 432x288 with 1 Axes>"
      ]
     },
     "metadata": {
      "needs_background": "light"
     },
     "output_type": "display_data"
    }
   ],
   "source": [
    "# Search for the best cutoff threshold\n",
    "# It seems the 0.1 is a good choice\n",
    "hf.RocCurveDisplay.from_estimator(pipe, X_test, y_test);"
   ]
  },
  {
   "cell_type": "code",
   "execution_count": 28,
   "id": "5b38b090",
   "metadata": {},
   "outputs": [
    {
     "data": {
      "text/plain": [
       "{'recall': 0.6029411764705882,\n",
       " 'precision': 0.3203125,\n",
       " 'f1': 0.4183673469387755}"
      ]
     },
     "execution_count": 28,
     "metadata": {},
     "output_type": "execute_result"
    },
    {
     "data": {
      "image/png": "[encoded data removed]",
      "text/plain": [
       "<Figure size 432x288 with 2 Axes>"
      ]
     },
     "metadata": {
      "needs_background": "light"
     },
     "output_type": "display_data"
    }
   ],
   "source": [
    "# Seems reasonable to set the cutoff point at 0.13\n",
    "# and calculate the lables\n",
    "y_hats = hf.soft_to_hard(pipe, X_test, cutoff=0.13)\n",
    "hf.evaluate(y_test, y_hats)"
   ]
  },
  {
   "cell_type": "markdown",
   "id": "158e92fe",
   "metadata": {},
   "source": [
    "Given the recall a more important metrics, we choise the cutoff of 0.13. The bare-bone Logistic Regression achieves Recall of **~60%**, and the precision of **~32%**. "
   ]
  },
  {
   "cell_type": "markdown",
   "id": "7e64b492",
   "metadata": {},
   "source": [
    "### Cross validation"
   ]
  },
  {
   "cell_type": "code",
   "execution_count": 29,
   "id": "538790be",
   "metadata": {},
   "outputs": [
    {
     "data": {
      "text/plain": [
       "{'Mean Recall': 0.5888187901423196,\n",
       " 'Mean Precision': 0.3286576343619687,\n",
       " 'Mean F1': 0.4147113683209028}"
      ]
     },
     "execution_count": 29,
     "metadata": {},
     "output_type": "execute_result"
    }
   ],
   "source": [
    "hf.k_fold(pipe, X_train, y_train, k=30, cutoff=0.13)"
   ]
  },
  {
   "cell_type": "markdown",
   "id": "0899b64c",
   "metadata": {},
   "source": [
    "- The soft decision with cross validation shows a similar result."
   ]
  },
  {
   "cell_type": "markdown",
   "id": "701b541b",
   "metadata": {},
   "source": [
    "### Hyperparameter Tuning"
   ]
  },
  {
   "cell_type": "code",
   "execution_count": 31,
   "id": "00757805",
   "metadata": {
    "collapsed": true
   },
   "outputs": [
    {
     "data": {
      "text/plain": [
       "GridSearchCV(cv=40,\n",
       "             estimator=Pipeline(steps=[('proc_cols',\n",
       "                                        FunctionTransformer(func=<function col_name_cnvt at 0x000002D182954700>)),\n",
       "                                       ('prep',\n",
       "                                        ColumnTransformer(transformers=[('onehotencoder',\n",
       "                                                                         OneHotEncoder(),\n",
       "                                                                         <sklearn.compose._column_transformer.make_column_selector object at 0x000002D184DC26D0>),\n",
       "                                                                        ('standardscaler',\n",
       "                                                                         StandardScaler(),\n",
       "                                                                         <sklearn.compose._column_transformer.make_column_selector object at 0x000002D184DC2190>)])),\n",
       "                                       ('model', LogisticRegression())]),\n",
       "             param_grid={'model__l1_ratio': [0, 0.1, 0.2, 0.3, 0.4],\n",
       "                         'model__max_iter': [400, 500, 600],\n",
       "                         'model__penalty': ['elasticnet'],\n",
       "                         'model__solver': ['saga']},\n",
       "             scoring='recall')"
      ]
     },
     "execution_count": 31,
     "metadata": {},
     "output_type": "execute_result"
    }
   ],
   "source": [
    "from sklearn.model_selection import GridSearchCV\n",
    "\n",
    "param_grid = {\n",
    "    'model__penalty': ['elasticnet'],\n",
    "    'model__max_iter': [400, 500, 600],\n",
    "    'model__l1_ratio': [0, 0.1, 0.2, 0.3, 0.4],\n",
    "    'model__solver': ['saga']\n",
    "}\n",
    "\n",
    "grid = GridSearchCV(pipe, param_grid=param_grid, cv=40, scoring='recall', refit=True)\n",
    "\n",
    "grid.fit(X_train, y_train)"
   ]
  },
  {
   "cell_type": "code",
   "execution_count": 32,
   "id": "69110797",
   "metadata": {},
   "outputs": [
    {
     "data": {
      "text/plain": [
       "{'model__l1_ratio': 0,\n",
       " 'model__max_iter': 400,\n",
       " 'model__penalty': 'elasticnet',\n",
       " 'model__solver': 'saga'}"
      ]
     },
     "execution_count": 32,
     "metadata": {},
     "output_type": "execute_result"
    }
   ],
   "source": [
    "grid.best_params_"
   ]
  },
  {
   "cell_type": "code",
   "execution_count": 33,
   "id": "ae764c8d",
   "metadata": {},
   "outputs": [
    {
     "data": {
      "text/plain": [
       "{'recall': 0.6029411764705882,\n",
       " 'precision': 0.3203125,\n",
       " 'f1': 0.4183673469387755}"
      ]
     },
     "execution_count": 33,
     "metadata": {},
     "output_type": "execute_result"
    },
    {
     "data": {
      "image/png": "[encoded data removed]",
      "text/plain": [
       "<Figure size 432x288 with 2 Axes>"
      ]
     },
     "metadata": {
      "needs_background": "light"
     },
     "output_type": "display_data"
    }
   ],
   "source": [
    "y_hats = hf.soft_to_hard(grid, X_test, cutoff=0.13)\n",
    "hf.evaluate(y_test, y_hats)"
   ]
  },
  {
   "cell_type": "markdown",
   "id": "9fdeacf0",
   "metadata": {},
   "source": [
    "- Even with the best parameters, the model performance does not improve much. "
   ]
  },
  {
   "cell_type": "code",
   "execution_count": null,
   "id": "ea09238b",
   "metadata": {},
   "outputs": [],
   "source": []
  }
 ],
 "metadata": {
  "kernelspec": {
   "display_name": "lhl_final",
   "language": "python",
   "name": "lhl_final"
  },
  "language_info": {
   "codemirror_mode": {
    "name": "ipython",
    "version": 3
   },
   "file_extension": ".py",
   "mimetype": "text/x-python",
   "name": "python",
   "nbconvert_exporter": "python",
   "pygments_lexer": "ipython3",
   "version": "3.8.5"
  }
 },
 "nbformat": 4,
 "nbformat_minor": 5
}
