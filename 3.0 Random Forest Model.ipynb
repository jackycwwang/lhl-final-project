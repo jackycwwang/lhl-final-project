{
 "cells": [
  {
   "cell_type": "markdown",
   "id": "85c6c3a5",
   "metadata": {},
   "source": [
    "# Random Forest Modeling"
   ]
  },
  {
   "cell_type": "code",
   "execution_count": 1,
   "id": "48652cc7",
   "metadata": {},
   "outputs": [],
   "source": [
    "import numpy as np\n",
    "import pandas as pd\n",
    "import matplotlib.pyplot as plt\n",
    "\n",
    "import help_function as hf  # customized help functions\n",
    "%matplotlib inline\n",
    "\n",
    "df = pd.read_csv('data/ai4i2020.csv')\n",
    "\n",
    "X = df.drop(columns='Machine failure')\n",
    "y = df['Machine failure']\n",
    "\n",
    "# train test split\n",
    "# use stratify to enforce the proportion in the splits\n",
    "from sklearn.model_selection import train_test_split\n",
    "X_train, X_test, y_train, y_test = train_test_split(X, y, test_size=0.2, stratify=y)"
   ]
  },
  {
   "cell_type": "markdown",
   "id": "f15b201d",
   "metadata": {},
   "source": [
    "### Build a pipeline"
   ]
  },
  {
   "cell_type": "code",
   "execution_count": 9,
   "id": "873709c8",
   "metadata": {
    "collapsed": true
   },
   "outputs": [
    {
     "data": {
      "text/plain": [
       "Pipeline(steps=[('proc_cols',\n",
       "                 FunctionTransformer(func=<function col_name_cnvt at 0x000001D850E95700>)),\n",
       "                ('prep',\n",
       "                 ColumnTransformer(transformers=[('onehotencoder',\n",
       "                                                  OneHotEncoder(),\n",
       "                                                  <sklearn.compose._column_transformer.make_column_selector object at 0x000001D8535C4370>),\n",
       "                                                 ('standardscaler',\n",
       "                                                  StandardScaler(),\n",
       "                                                  <sklearn.compose._column_transformer.make_column_selector object at 0x000001D8535C46D0>)])),\n",
       "                ('model', RandomForestClassifier())])"
      ]
     },
     "execution_count": 9,
     "metadata": {},
     "output_type": "execute_result"
    }
   ],
   "source": [
    "from sklearn.ensemble import RandomForestClassifier\n",
    "clf = RandomForestClassifier()\n",
    "pipe = hf.create_pipe(clf)\n",
    "pipe.fit(X_train, y_train)"
   ]
  },
  {
   "cell_type": "code",
   "execution_count": 4,
   "id": "e14b7156",
   "metadata": {},
   "outputs": [
    {
     "data": {
      "image/png": "[encoded data removed]",
      "text/plain": [
       "<Figure size 432x288 with 1 Axes>"
      ]
     },
     "metadata": {
      "needs_background": "light"
     },
     "output_type": "display_data"
    }
   ],
   "source": [
    "# Search for the best cutoff threshold\n",
    "hf.RocCurveDisplay.from_estimator(pipe, X_test, y_test);"
   ]
  },
  {
   "cell_type": "markdown",
   "id": "494096a0",
   "metadata": {},
   "source": [
    "- The ROC curve looks almost perfect. It seems Random Forest can do a good job."
   ]
  },
  {
   "cell_type": "markdown",
   "id": "47dbb90e",
   "metadata": {},
   "source": [
    "### Use leave-one-out evaluation"
   ]
  },
  {
   "cell_type": "code",
   "execution_count": 5,
   "id": "479a4390",
   "metadata": {},
   "outputs": [
    {
     "data": {
      "text/plain": [
       "{'recall': 0.7941176470588235,\n",
       " 'precision': 0.6506024096385542,\n",
       " 'f1': 0.7152317880794702}"
      ]
     },
     "execution_count": 5,
     "metadata": {},
     "output_type": "execute_result"
    },
    {
     "data": {
      "image/png": "[encoded data removed]",
      "text/plain": [
       "<Figure size 432x288 with 2 Axes>"
      ]
     },
     "metadata": {
      "needs_background": "light"
     },
     "output_type": "display_data"
    }
   ],
   "source": [
    "# try cutoff = 0.23\n",
    "# use the leave-one-out evaluation\n",
    "y_hats = hf.soft_to_hard(pipe, X_test, cutoff=0.23)\n",
    "hf.evaluate(y_test, y_hats)"
   ]
  },
  {
   "cell_type": "markdown",
   "id": "f45e37bc",
   "metadata": {},
   "source": [
    "### Use cross validation to generalize the evaluation"
   ]
  },
  {
   "cell_type": "code",
   "execution_count": 6,
   "id": "e1ad9e8f",
   "metadata": {},
   "outputs": [
    {
     "data": {
      "text/plain": [
       "{'Mean Recall': 0.780357142857143,\n",
       " 'Mean Precision': 0.6608080808080808,\n",
       " 'Mean F1': 0.7029339941104646}"
      ]
     },
     "execution_count": 6,
     "metadata": {},
     "output_type": "execute_result"
    }
   ],
   "source": [
    "# calculate the cross-validated scores, use the same cutoff\n",
    "hf.k_fold(pipe, X_train, y_train, k=40, cutoff=0.23)"
   ]
  },
  {
   "cell_type": "markdown",
   "id": "9f360f1e",
   "metadata": {},
   "source": [
    "#### Try different cutoffs"
   ]
  },
  {
   "cell_type": "code",
   "execution_count": 10,
   "id": "c89394bb",
   "metadata": {},
   "outputs": [
    {
     "data": {
      "text/plain": [
       "{'Mean Recall': 0.7827380952380952,\n",
       " 'Mean Precision': 0.6927534271284271,\n",
       " 'Mean F1': 0.7260000770643186}"
      ]
     },
     "execution_count": 10,
     "metadata": {},
     "output_type": "execute_result"
    }
   ],
   "source": [
    "hf.k_fold(pipe, X_train, y_train, k=40, cutoff=0.25)"
   ]
  },
  {
   "cell_type": "code",
   "execution_count": 13,
   "id": "dd51f9f5",
   "metadata": {},
   "outputs": [
    {
     "data": {
      "text/plain": [
       "{'Mean Recall': 0.7720238095238096,\n",
       " 'Mean Precision': 0.7076839826839827,\n",
       " 'Mean F1': 0.7309335762276938}"
      ]
     },
     "execution_count": 13,
     "metadata": {},
     "output_type": "execute_result"
    }
   ],
   "source": [
    "hf.k_fold(pipe, X_train, y_train, k=40, cutoff=0.26)"
   ]
  },
  {
   "cell_type": "code",
   "execution_count": 12,
   "id": "ba8d60ff",
   "metadata": {},
   "outputs": [
    {
     "data": {
      "text/plain": [
       "{'Mean Recall': 0.7505952380952381,\n",
       " 'Mean Precision': 0.7478219696969697,\n",
       " 'Mean F1': 0.7370630921366216}"
      ]
     },
     "execution_count": 12,
     "metadata": {},
     "output_type": "execute_result"
    }
   ],
   "source": [
    "# this cutoff shows the best result\n",
    "hf.k_fold(pipe, X_train, y_train, k=40, cutoff=0.27)"
   ]
  },
  {
   "cell_type": "code",
   "execution_count": 14,
   "id": "ff4b82de",
   "metadata": {},
   "outputs": [
    {
     "data": {
      "text/plain": [
       "{'Mean Recall': 0.756547619047619,\n",
       " 'Mean Precision': 0.7282195582195582,\n",
       " 'Mean F1': 0.7331637439358027}"
      ]
     },
     "execution_count": 14,
     "metadata": {},
     "output_type": "execute_result"
    }
   ],
   "source": [
    "hf.k_fold(pipe, X_train, y_train, k=40, cutoff=0.28)"
   ]
  },
  {
   "cell_type": "markdown",
   "id": "f50f27e9",
   "metadata": {},
   "source": [
    "#### Use best cutoff with test data"
   ]
  },
  {
   "cell_type": "code",
   "execution_count": 15,
   "id": "e29159c4",
   "metadata": {},
   "outputs": [
    {
     "data": {
      "text/plain": [
       "{'recall': 0.7794117647058824,\n",
       " 'precision': 0.7464788732394366,\n",
       " 'f1': 0.762589928057554}"
      ]
     },
     "execution_count": 15,
     "metadata": {},
     "output_type": "execute_result"
    },
    {
     "data": {
      "image/png": "[encoded data removed]",
      "text/plain": [
       "<Figure size 432x288 with 2 Axes>"
      ]
     },
     "metadata": {
      "needs_background": "light"
     },
     "output_type": "display_data"
    }
   ],
   "source": [
    "y_hats = hf.soft_to_hard(pipe, X_test, cutoff=0.27)\n",
    "hf.evaluate(y_test, y_hats)"
   ]
  },
  {
   "cell_type": "markdown",
   "id": "150ef01f",
   "metadata": {},
   "source": [
    "- f1 score is much higher now wit cutoff = 0.27."
   ]
  },
  {
   "cell_type": "markdown",
   "id": "3514c425",
   "metadata": {},
   "source": [
    "### Hyperparameter Tuning"
   ]
  },
  {
   "cell_type": "markdown",
   "id": "22a73838",
   "metadata": {},
   "source": [
    "#### Grid search aiming for high *f1* score"
   ]
  },
  {
   "cell_type": "code",
   "execution_count": 30,
   "id": "6d55586a",
   "metadata": {},
   "outputs": [
    {
     "name": "stdout",
     "output_type": "stream",
     "text": [
      "Time elapsed:  57.23220419883728 seconds\n"
     ]
    }
   ],
   "source": [
    "from sklearn.model_selection import GridSearchCV\n",
    "import time\n",
    "\n",
    "param_grid = {\n",
    "    'model__n_estimators': [190, 200],\n",
    "    'model__class_weight': [{0:4, 1:6}, {0:39, 1:61}],\n",
    "    'model__max_samples': [0.95, 0.96],\n",
    "    'model__max_features': ['log2'],\n",
    "}\n",
    "\n",
    "start = time.time()\n",
    "\n",
    "grid = GridSearchCV(pipe, param_grid=param_grid, \n",
    "                    cv=40, scoring='f1', \n",
    "                    refit=True, n_jobs=8)\n",
    "grid.fit(X_train, y_train)\n",
    "\n",
    "end = time.time()\n",
    "print('Time elapsed: ', end - start, 'seconds')"
   ]
  },
  {
   "cell_type": "code",
   "execution_count": 31,
   "id": "3220698f",
   "metadata": {},
   "outputs": [
    {
     "data": {
      "text/plain": [
       "{'model__class_weight': {0: 4, 1: 6},\n",
       " 'model__max_features': 'log2',\n",
       " 'model__max_samples': 0.95,\n",
       " 'model__n_estimators': 200}"
      ]
     },
     "execution_count": 31,
     "metadata": {},
     "output_type": "execute_result"
    }
   ],
   "source": [
    "grid.best_params_"
   ]
  },
  {
   "cell_type": "code",
   "execution_count": 32,
   "id": "25170e1c",
   "metadata": {},
   "outputs": [
    {
     "data": {
      "text/plain": [
       "0.7466303141303141"
      ]
     },
     "execution_count": 32,
     "metadata": {},
     "output_type": "execute_result"
    }
   ],
   "source": [
    "# best f1 score\n",
    "grid.best_score_"
   ]
  },
  {
   "cell_type": "markdown",
   "id": "59886a41",
   "metadata": {},
   "source": [
    "#### Grid search aiming for high *recall* score"
   ]
  },
  {
   "cell_type": "code",
   "execution_count": 27,
   "id": "aed28c70",
   "metadata": {},
   "outputs": [
    {
     "name": "stdout",
     "output_type": "stream",
     "text": [
      "Time elapsed:  118.17156267166138 seconds\n"
     ]
    }
   ],
   "source": [
    "from sklearn.model_selection import GridSearchCV\n",
    "import time\n",
    "\n",
    "param_grid = {\n",
    "    'model__n_estimators': [250, 300],\n",
    "    'model__class_weight': [{0:4, 1:6}, {0:39, 1:61}, {0:38, 1:62}],\n",
    "    'model__max_samples': [0.95, 0.96],\n",
    "    'model__max_features': ['log2'],\n",
    "}\n",
    "\n",
    "start = time.time()\n",
    "\n",
    "grid_recall = GridSearchCV(pipe, param_grid=param_grid, \n",
    "                           cv=40, scoring='recall', \n",
    "                           refit=True, n_jobs=8)\n",
    "\n",
    "grid_recall.fit(X_train, y_train)\n",
    "\n",
    "end = time.time()\n",
    "print('Time elapsed: ', end - start, 'seconds')"
   ]
  },
  {
   "cell_type": "code",
   "execution_count": 28,
   "id": "61db681a",
   "metadata": {},
   "outputs": [
    {
     "data": {
      "text/plain": [
       "{'model__class_weight': {0: 39, 1: 61},\n",
       " 'model__max_features': 'log2',\n",
       " 'model__max_samples': 0.95,\n",
       " 'model__n_estimators': 250}"
      ]
     },
     "execution_count": 28,
     "metadata": {},
     "output_type": "execute_result"
    }
   ],
   "source": [
    "grid_recall.best_params_"
   ]
  },
  {
   "cell_type": "code",
   "execution_count": 29,
   "id": "0a495a1a",
   "metadata": {},
   "outputs": [
    {
     "data": {
      "text/plain": [
       "0.6464285714285714"
      ]
     },
     "execution_count": 29,
     "metadata": {},
     "output_type": "execute_result"
    }
   ],
   "source": [
    "# best recall score\n",
    "grid_recall.best_score_"
   ]
  },
  {
   "cell_type": "markdown",
   "id": "ae0fda8f",
   "metadata": {},
   "source": [
    "### Use the best parameters for evaluation"
   ]
  },
  {
   "cell_type": "code",
   "execution_count": 42,
   "id": "ce031b2b",
   "metadata": {
    "collapsed": true
   },
   "outputs": [
    {
     "data": {
      "text/plain": [
       "Pipeline(steps=[('proc_cols',\n",
       "                 FunctionTransformer(func=<function col_name_cnvt at 0x000001D850E95700>)),\n",
       "                ('prep',\n",
       "                 ColumnTransformer(transformers=[('onehotencoder',\n",
       "                                                  OneHotEncoder(),\n",
       "                                                  <sklearn.compose._column_transformer.make_column_selector object at 0x000001D855C8C610>),\n",
       "                                                 ('standardscaler',\n",
       "                                                  StandardScaler(),\n",
       "                                                  <sklearn.compose._column_transformer.make_column_selector object at 0x000001D855C8C8B0>)])),\n",
       "                ('model',\n",
       "                 RandomForestClassifier(class_weight={0: 39, 1: 61},\n",
       "                                        max_features='log2', max_samples=0.95,\n",
       "                                        n_estimators=250))])"
      ]
     },
     "execution_count": 42,
     "metadata": {},
     "output_type": "execute_result"
    }
   ],
   "source": [
    "# Instantiate a new model with best hyperparameters aiming for high recall\n",
    "from sklearn.ensemble import RandomForestClassifier\n",
    "clf_best = RandomForestClassifier(class_weight={0: 39, 1: 61}, \n",
    "                                  max_features='log2', \n",
    "                                  max_samples=0.95, \n",
    "                                  n_estimators=250)\n",
    "pipe_best = hf.create_pipe(clf_best)\n",
    "pipe_best.fit(X_train, y_train)"
   ]
  },
  {
   "cell_type": "markdown",
   "id": "3fd4128a",
   "metadata": {},
   "source": [
    "#### A quick evaluation"
   ]
  },
  {
   "cell_type": "code",
   "execution_count": 43,
   "id": "ecfa3186",
   "metadata": {},
   "outputs": [
    {
     "data": {
      "text/plain": [
       "{'recall': 0.7794117647058824, 'precision': 0.6625, 'f1': 0.7162162162162162}"
      ]
     },
     "execution_count": 43,
     "metadata": {},
     "output_type": "execute_result"
    },
    {
     "data": {
      "image/png": "[encoded data removed]",
      "text/plain": [
       "<Figure size 432x288 with 2 Axes>"
      ]
     },
     "metadata": {
      "needs_background": "light"
     },
     "output_type": "display_data"
    }
   ],
   "source": [
    "# try the old previous cutoff value\n",
    "y_hats = hf.soft_to_hard(pipe_best, X_test, cutoff=0.27)\n",
    "hf.evaluate(y_test, y_hats)"
   ]
  },
  {
   "cell_type": "markdown",
   "id": "5d9bd6bd",
   "metadata": {},
   "source": [
    "#### Search for best cutoff for this model"
   ]
  },
  {
   "cell_type": "code",
   "execution_count": 44,
   "id": "d7e63e96",
   "metadata": {},
   "outputs": [
    {
     "data": {
      "image/png": "[encoded data removed]",
      "text/plain": [
       "<Figure size 432x288 with 1 Axes>"
      ]
     },
     "metadata": {
      "needs_background": "light"
     },
     "output_type": "display_data"
    }
   ],
   "source": [
    "# Visualize the best cutoff threshold\n",
    "hf.RocCurveDisplay.from_estimator(pipe_best, X_test, y_test);"
   ]
  },
  {
   "cell_type": "code",
   "execution_count": 45,
   "id": "13383fb9",
   "metadata": {},
   "outputs": [
    {
     "name": "stdout",
     "output_type": "stream",
     "text": [
      "Elasped time:  530.5311224460602 seconds\n"
     ]
    }
   ],
   "source": [
    "# search for the best cutoff\n",
    "import time\n",
    "\n",
    "cutoffs = np.arange(0.20, 0.28, 0.01)\n",
    "scores = []\n",
    "\n",
    "start = time.time()\n",
    "\n",
    "for cutoff in cutoffs:\n",
    "    score = hf.k_fold(pipe_best, X_train, y_train, k=10, cutoff=cutoff)\n",
    "    scores.append((cutoff, score))\n",
    "    \n",
    "end = time.time()\n",
    "print('Elasped time: ', end - start, 'seconds')"
   ]
  },
  {
   "cell_type": "code",
   "execution_count": 46,
   "id": "17dbb319",
   "metadata": {},
   "outputs": [
    {
     "data": {
      "text/plain": [
       "[(0.2,\n",
       "  {'Mean Recall': 0.8345238095238094,\n",
       "   'Mean Precision': 0.6341026334776335,\n",
       "   'Mean F1': 0.7121915507093525}),\n",
       " (0.21000000000000002,\n",
       "  {'Mean Recall': 0.8273809523809526,\n",
       "   'Mean Precision': 0.6341149822399823,\n",
       "   'Mean F1': 0.7086881655496207}),\n",
       " (0.22000000000000003,\n",
       "  {'Mean Recall': 0.8238095238095238,\n",
       "   'Mean Precision': 0.661923285048285,\n",
       "   'Mean F1': 0.7222663127636038}),\n",
       " (0.23000000000000004,\n",
       "  {'Mean Recall': 0.8130952380952381,\n",
       "   'Mean Precision': 0.6837671356421356,\n",
       "   'Mean F1': 0.7337661480676185}),\n",
       " (0.24000000000000005,\n",
       "  {'Mean Recall': 0.8095238095238095,\n",
       "   'Mean Precision': 0.6999466505716505,\n",
       "   'Mean F1': 0.741374197697727}),\n",
       " (0.25000000000000006,\n",
       "  {'Mean Recall': 0.8017857142857142,\n",
       "   'Mean Precision': 0.6994002525252525,\n",
       "   'Mean F1': 0.7362816245072437}),\n",
       " (0.26000000000000006,\n",
       "  {'Mean Recall': 0.8130952380952381,\n",
       "   'Mean Precision': 0.7170887445887446,\n",
       "   'Mean F1': 0.7523084500638679}),\n",
       " (0.2700000000000001,\n",
       "  {'Mean Recall': 0.8017857142857142,\n",
       "   'Mean Precision': 0.7166819985569985,\n",
       "   'Mean F1': 0.7481107944343238}),\n",
       " (0.2800000000000001,\n",
       "  {'Mean Recall': 0.7952380952380953,\n",
       "   'Mean Precision': 0.7516378066378067,\n",
       "   'Mean F1': 0.7599706665883136})]"
      ]
     },
     "execution_count": 46,
     "metadata": {},
     "output_type": "execute_result"
    }
   ],
   "source": [
    "scores"
   ]
  },
  {
   "cell_type": "markdown",
   "id": "3e19b9f5",
   "metadata": {},
   "source": [
    "- We will choose choose cutoff = 0.24 for this model since it is relatively high recall."
   ]
  },
  {
   "cell_type": "code",
   "execution_count": 49,
   "id": "c50fe0b3",
   "metadata": {},
   "outputs": [
    {
     "data": {
      "text/plain": [
       "{'recall': 0.7647058823529411,\n",
       " 'precision': 0.6265060240963856,\n",
       " 'f1': 0.6887417218543046}"
      ]
     },
     "execution_count": 49,
     "metadata": {},
     "output_type": "execute_result"
    },
    {
     "data": {
      "image/png": "[encoded data removed]",
      "text/plain": [
       "<Figure size 432x288 with 2 Axes>"
      ]
     },
     "metadata": {
      "needs_background": "light"
     },
     "output_type": "display_data"
    }
   ],
   "source": [
    "# try the new cutoff value\n",
    "y_hats = hf.soft_to_hard(pipe_best, X_test, cutoff=0.24)\n",
    "hf.evaluate(y_test, y_hats)"
   ]
  },
  {
   "cell_type": "markdown",
   "id": "73784965",
   "metadata": {},
   "source": [
    "- Clearly there is some bias in the leave-one-out test sample."
   ]
  }
 ],
 "metadata": {
  "kernelspec": {
   "display_name": "lhl_final",
   "language": "python",
   "name": "lhl_final"
  },
  "language_info": {
   "codemirror_mode": {
    "name": "ipython",
    "version": 3
   },
   "file_extension": ".py",
   "mimetype": "text/x-python",
   "name": "python",
   "nbconvert_exporter": "python",
   "pygments_lexer": "ipython3",
   "version": "3.8.5"
  }
 },
 "nbformat": 4,
 "nbformat_minor": 5
}
