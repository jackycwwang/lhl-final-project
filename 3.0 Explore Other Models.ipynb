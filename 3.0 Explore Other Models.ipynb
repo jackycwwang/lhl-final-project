{
 "cells": [
  {
   "cell_type": "markdown",
   "id": "f13ffe85",
   "metadata": {},
   "source": [
    "# Explore Other Models"
   ]
  },
  {
   "cell_type": "code",
   "execution_count": 1,
   "id": "5c7de9f9",
   "metadata": {},
   "outputs": [],
   "source": [
    "import numpy as np\n",
    "import pandas as pd\n",
    "import matplotlib.pyplot as plt\n",
    "\n",
    "import help_function as hf  # customized help functions\n",
    "%matplotlib inline\n",
    "\n",
    "df = pd.read_csv('data/ai4i2020.csv')\n",
    "\n",
    "X = df.drop(columns='Machine failure')\n",
    "y = df['Machine failure']\n",
    "\n",
    "# train test split\n",
    "# use stratify to enforce the proportion in the splits\n",
    "from sklearn.model_selection import train_test_split\n",
    "X_train, X_test, y_train, y_test = train_test_split(X, y, test_size=0.2, stratify=y)"
   ]
  },
  {
   "cell_type": "code",
   "execution_count": 2,
   "id": "1d24a407",
   "metadata": {},
   "outputs": [],
   "source": [
    "from sklearn.ensemble import RandomForestClassifier\n",
    "clf = RandomForestClassifier()\n",
    "pipe = hf.create_pipe(clf)"
   ]
  },
  {
   "cell_type": "code",
   "execution_count": 5,
   "id": "1c2bade9",
   "metadata": {},
   "outputs": [
    {
     "data": {
      "image/png": "[encoded data removed]",
      "text/plain": [
       "<Figure size 432x288 with 1 Axes>"
      ]
     },
     "metadata": {
      "needs_background": "light"
     },
     "output_type": "display_data"
    }
   ],
   "source": [
    "# Search for the best cutoff threshold\n",
    "# It seems the 0.1 is a good choice\n",
    "hf.RocCurveDisplay.from_estimator(pipe, X_test, y_test);"
   ]
  },
  {
   "cell_type": "code",
   "execution_count": 25,
   "id": "6bcc06cd",
   "metadata": {},
   "outputs": [
    {
     "data": {
      "text/plain": [
       "{'recall': 0.75, 'precision': 0.6710526315789473, 'f1': 0.7083333333333334}"
      ]
     },
     "execution_count": 25,
     "metadata": {},
     "output_type": "execute_result"
    },
    {
     "data": {
      "image/png": "[encoded data removed]",
      "text/plain": [
       "<Figure size 432x288 with 2 Axes>"
      ]
     },
     "metadata": {
      "needs_background": "light"
     },
     "output_type": "display_data"
    }
   ],
   "source": [
    "# Seems reasonable to set the cutoff point at 0.23\n",
    "# and calculate the lables\n",
    "y_hats = hf.soft_to_hard(pipe, X_test, cutoff=0.25)\n",
    "hf.evaluate(y_test, y_hats)"
   ]
  },
  {
   "cell_type": "code",
   "execution_count": 26,
   "id": "39c4a4c9",
   "metadata": {},
   "outputs": [],
   "source": [
    "from sklearn.model_selection import StratifiedKFold, KFold\n",
    "\n",
    "k_fold = 30        # set 30 splits\n",
    "kf = KFold(n_splits=k_fold)\n",
    "\n",
    "# do the split and train\n",
    "scores = []\n",
    "for train_idx, test_idx in kf.split(X_train):    \n",
    "    X_train_fold, X_test_fold = X_train.iloc[train_idx], X_train.iloc[test_idx]\n",
    "    y_train_fold, y_test_fold = y_train.iloc[train_idx], y_train.iloc[test_idx]    \n",
    "    \n",
    "    pipe.fit(X_train_fold, y_train_fold)\n",
    "    y_hats = hf.soft_to_hard(pipe, X_test_fold, cutoff=0.24)\n",
    "    score = hf.evaluate(y_test_fold, y_hats, cm=False)\n",
    "    scores.append(score)"
   ]
  },
  {
   "cell_type": "code",
   "execution_count": 27,
   "id": "5b1e226a",
   "metadata": {},
   "outputs": [
    {
     "name": "stdout",
     "output_type": "stream",
     "text": [
      "Mean Recall:  0.8023834498834499\n",
      "Mean Precision:  0.6687271524771525\n",
      "Mean F1:  0.7187266399927098\n"
     ]
    }
   ],
   "source": [
    "# calculate the average recall, precision, and f1\n",
    "recall, precision, f1 = [], [], []\n",
    "for score in scores:    \n",
    "    recall.append(score['recall'])\n",
    "    precision.append(score['precision'])\n",
    "    f1.append(score['f1'])\n",
    "print('Mean Recall: ', np.array(recall).mean())\n",
    "print('Mean Precision: ', np.array(precision).mean())\n",
    "print('Mean F1: ', np.array(f1).mean())"
   ]
  },
  {
   "cell_type": "code",
   "execution_count": null,
   "id": "5254344e",
   "metadata": {},
   "outputs": [],
   "source": []
  },
  {
   "cell_type": "code",
   "execution_count": null,
   "id": "bf19c942",
   "metadata": {},
   "outputs": [],
   "source": []
  },
  {
   "cell_type": "code",
   "execution_count": null,
   "id": "10a7b9eb",
   "metadata": {},
   "outputs": [],
   "source": []
  }
 ],
 "metadata": {
  "kernelspec": {
   "display_name": "lhl_final",
   "language": "python",
   "name": "lhl_final"
  },
  "language_info": {
   "codemirror_mode": {
    "name": "ipython",
    "version": 3
   },
   "file_extension": ".py",
   "mimetype": "text/x-python",
   "name": "python",
   "nbconvert_exporter": "python",
   "pygments_lexer": "ipython3",
   "version": "3.8.5"
  }
 },
 "nbformat": 4,
 "nbformat_minor": 5
}
